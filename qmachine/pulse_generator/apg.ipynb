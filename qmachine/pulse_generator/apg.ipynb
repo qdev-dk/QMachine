{
 "cells": [
  {
   "cell_type": "code",
   "execution_count": 1,
   "metadata": {},
   "outputs": [
    {
     "name": "stdout",
     "output_type": "stream",
     "text": [
      "2022-04-22 20:25:04,769 - qm - INFO - Performing health check\n",
      "2022-04-22 20:25:04,773 - qm - INFO - Health check passed\n",
      "25\n",
      "2022-04-22 20:25:04,965 - qm - INFO - to simulate a program, use QuantumMachinesManager.simulate(..)\n",
      "2022-04-22 20:25:05,001 - qm - INFO - Flags: \n",
      "2022-04-22 20:25:05,003 - qm - INFO - Simulating program\n"
     ]
    },
    {
     "data": {
      "image/png": "[encoded data removed]",
      "text/plain": [
       "<Figure size 432x288 with 1 Axes>"
      ]
     },
     "metadata": {
      "needs_background": "light"
     },
     "output_type": "display_data"
    }
   ],
   "source": [
    "from config import config\n",
    "from qm.qua import program,for_,stream_processing,declare,declare_stream,wait,measure,play,save,fixed,demod,amp,ramp, align\n",
    "from qm.QuantumMachinesManager import QuantumMachinesManager\n",
    "from qm import SimulationConfig\n",
    "import time as time\n",
    "import matplotlib.pyplot as plt\n",
    "import matplotlib.animation as ani\n",
    "import numpy as np\n",
    "\n",
    "\n",
    "qmm = QuantumMachinesManager(host='192.168.15.128',port=80)\n",
    "qmm.close_all_quantum_machines()\n",
    "qm = qmm.open_qm(config)\n",
    "\n",
    "num_of_slices=100\n",
    "slice_length=int(config['pulses']['readout_pulse_0_2']['length']/4/num_of_slices)\n",
    "print(slice_length)\n",
    "\n",
    "\n",
    "with program() as sprog:\n",
    "    var=declare(fixed,value=np.linspace(-0.1,0.3,5))\n",
    "    ind=declare(int)\n",
    "    I=declare(fixed,size=num_of_slices)\n",
    "    Q=declare(fixed,size=num_of_slices)\n",
    "    with for_(ind,0,ind<5,ind+1):\n",
    "        # align('Q1_readout','Q1_L')\n",
    "        \n",
    "        play('CW'*amp(0.1), 'Q1_L', duration=10000//4)\n",
    "        measure('readout_pulse_0_05', 'Q2_readout', None, demod.sliced('cos', I ,slice_length, 'out1'), demod.sliced('sin', Q ,slice_length, 'out1'))\n",
    "        # play('CW'*amp(-var[ind]), 'Q1_L', duration=100//4)\n",
    "    \n",
    "\n",
    "\n",
    "job = qm.simulate(sprog, SimulationConfig(int(3000//4)))\n",
    "samples = job.get_simulated_samples()\n",
    "samples.con1.plot()\n"
   ]
  },
  {
   "cell_type": "markdown",
   "metadata": {},
   "source": [
    "# just testing the pulser part"
   ]
  },
  {
   "cell_type": "code",
   "execution_count": 5,
   "metadata": {},
   "outputs": [
    {
     "name": "stdout",
     "output_type": "stream",
     "text": [
      "readout length: 10000ns\n",
      "slice length=25\n",
      "2022-04-22 20:26:25,594 - qm - INFO - Performing health check\n",
      "2022-04-22 20:26:25,599 - qm - INFO - Health check passed\n",
      "quantum machine opened with channels ['Q1_R', 'Q1_L', 'Q1_readout', 'Q2_readout']\n",
      "default value for CW is: 0.1\n",
      "2022-04-22 20:26:25,675 - qm - INFO - Flags: \n",
      "2022-04-22 20:26:25,676 - qm - INFO - Sending program to QOP\n",
      "2022-04-22 20:26:25,743 - qm - ERROR - Unexpected error: Failed to compile job\n",
      "2022-04-22 20:26:25,745 - qm - ERROR - Incompatible integration weight duration. Received: 2500 ns. Expected: 2500 ns (@ File \"d:\\qcodes_local\\torbjorn\\apg\\qmachine\\qmachine\\pulse_generator\\pulse_generator.py\", line 156: self.meas_dict[variables['type']]('cos',variables['save_I'],variables['slice_length'],variables['analog_output']), )\n",
      "2022-04-22 20:26:25,746 - qm - ERROR - Incompatible integration weight duration. Received: 2500 ns. Expected: 2500 ns (@ File \"d:\\qcodes_local\\torbjorn\\apg\\qmachine\\qmachine\\pulse_generator\\pulse_generator.py\", line 157: self.meas_dict[variables['type']]('sin',variables['save_Q'],variables['slice_length'],variables['analog_output'])) )\n",
      "2022-04-22 20:26:25,747 - qm - ERROR - Job 1650454743249 failed. Failed to execute program.\n"
     ]
    },
    {
     "ename": "FailedToAddJobToQueueException",
     "evalue": "1650454743249",
     "output_type": "error",
     "traceback": [
      "\u001b[1;31m---------------------------------------------------------------------------\u001b[0m",
      "\u001b[1;31mFailedToAddJobToQueueException\u001b[0m            Traceback (most recent call last)",
      "\u001b[1;32md:\\qcodes_local\\torbjorn\\apg\\QMachine\\qmachine\\pulse_generator\\apg.ipynb Cell 3'\u001b[0m in \u001b[0;36m<module>\u001b[1;34m\u001b[0m\n\u001b[0;32m     <a href='vscode-notebook-cell:/d%3A/qcodes_local/torbjorn/apg/QMachine/qmachine/pulse_generator/apg.ipynb#ch0000003?line=55'>56</a>\u001b[0m \u001b[39m# job=pulse_maker.simulate_pulse(seq,320000//4+300//4)\u001b[39;00m\n\u001b[0;32m     <a href='vscode-notebook-cell:/d%3A/qcodes_local/torbjorn/apg/QMachine/qmachine/pulse_generator/apg.ipynb#ch0000003?line=56'>57</a>\u001b[0m pulse_maker\u001b[39m.\u001b[39mopen_qm(pulse_maker\u001b[39m.\u001b[39mconfig)\n\u001b[1;32m---> <a href='vscode-notebook-cell:/d%3A/qcodes_local/torbjorn/apg/QMachine/qmachine/pulse_generator/apg.ipynb#ch0000003?line=57'>58</a>\u001b[0m job\u001b[39m=\u001b[39mpulse_maker\u001b[39m.\u001b[39;49mqm\u001b[39m.\u001b[39;49mexecute(seq)\n",
      "File \u001b[1;32m~\\Anaconda3\\envs\\qcodes\\lib\\site-packages\\qm\\QuantumMachine.py:155\u001b[0m, in \u001b[0;36mQuantumMachine.execute\u001b[1;34m(self, program, duration_limit, data_limit, force_execution, dry_run, **kwargs)\u001b[0m\n\u001b[0;32m    <a href='file:///c%3A/Users/T7-2/Anaconda3/envs/qcodes/lib/site-packages/qm/QuantumMachine.py?line=152'>153</a>\u001b[0m \u001b[39mif\u001b[39;00m current_running_job \u001b[39mis\u001b[39;00m \u001b[39mnot\u001b[39;00m \u001b[39mNone\u001b[39;00m:\n\u001b[0;32m    <a href='file:///c%3A/Users/T7-2/Anaconda3/envs/qcodes/lib/site-packages/qm/QuantumMachine.py?line=153'>154</a>\u001b[0m     current_running_job\u001b[39m.\u001b[39mhalt()\n\u001b[1;32m--> <a href='file:///c%3A/Users/T7-2/Anaconda3/envs/qcodes/lib/site-packages/qm/QuantumMachine.py?line=154'>155</a>\u001b[0m pending_job \u001b[39m=\u001b[39m \u001b[39mself\u001b[39m\u001b[39m.\u001b[39m_queue\u001b[39m.\u001b[39madd(program, \u001b[39m*\u001b[39m\u001b[39m*\u001b[39mkwargs)\n\u001b[0;32m    <a href='file:///c%3A/Users/T7-2/Anaconda3/envs/qcodes/lib/site-packages/qm/QuantumMachine.py?line=155'>156</a>\u001b[0m logger\u001b[39m.\u001b[39minfo(\u001b[39m\"\u001b[39m\u001b[39mExecuting program\u001b[39m\u001b[39m\"\u001b[39m)\n\u001b[0;32m    <a href='file:///c%3A/Users/T7-2/Anaconda3/envs/qcodes/lib/site-packages/qm/QuantumMachine.py?line=156'>157</a>\u001b[0m \u001b[39mreturn\u001b[39;00m pending_job\u001b[39m.\u001b[39mwait_for_execution(timeout\u001b[39m=\u001b[39m\u001b[39m5\u001b[39m)\n",
      "File \u001b[1;32m~\\Anaconda3\\envs\\qcodes\\lib\\site-packages\\qm\\QmQueue.py:80\u001b[0m, in \u001b[0;36mQmQueue.add\u001b[1;34m(self, program, **kwargs)\u001b[0m\n\u001b[0;32m     <a href='file:///c%3A/Users/T7-2/Anaconda3/envs/qcodes/lib/site-packages/qm/QmQueue.py?line=66'>67</a>\u001b[0m \u001b[39mdef\u001b[39;00m \u001b[39madd\u001b[39m(\u001b[39mself\u001b[39m, program: _Program, \u001b[39m*\u001b[39m\u001b[39m*\u001b[39mkwargs) \u001b[39m-\u001b[39m\u001b[39m>\u001b[39m QmPendingJob:\n\u001b[0;32m     <a href='file:///c%3A/Users/T7-2/Anaconda3/envs/qcodes/lib/site-packages/qm/QmQueue.py?line=67'>68</a>\u001b[0m     \u001b[39m\"\"\"\u001b[39;00m\n\u001b[0;32m     <a href='file:///c%3A/Users/T7-2/Anaconda3/envs/qcodes/lib/site-packages/qm/QmQueue.py?line=68'>69</a>\u001b[0m \u001b[39m    Adds a QmJob to the queue.\u001b[39;00m\n\u001b[0;32m     <a href='file:///c%3A/Users/T7-2/Anaconda3/envs/qcodes/lib/site-packages/qm/QmQueue.py?line=69'>70</a>\u001b[0m \u001b[39m    Programs in the queue will play as soon as possible.\u001b[39;00m\n\u001b[1;32m   (...)\u001b[0m\n\u001b[0;32m     <a href='file:///c%3A/Users/T7-2/Anaconda3/envs/qcodes/lib/site-packages/qm/QmQueue.py?line=77'>78</a>\u001b[0m \u001b[39m    >>> qm.queue.insert(program, position)  # adds at position\u001b[39;00m\n\u001b[0;32m     <a href='file:///c%3A/Users/T7-2/Anaconda3/envs/qcodes/lib/site-packages/qm/QmQueue.py?line=78'>79</a>\u001b[0m \u001b[39m    \"\"\"\u001b[39;00m\n\u001b[1;32m---> <a href='file:///c%3A/Users/T7-2/Anaconda3/envs/qcodes/lib/site-packages/qm/QmQueue.py?line=79'>80</a>\u001b[0m     \u001b[39mreturn\u001b[39;00m \u001b[39mself\u001b[39m\u001b[39m.\u001b[39m_insert(program, _QueuePosition\u001b[39m.\u001b[39mEnd, \u001b[39m*\u001b[39m\u001b[39m*\u001b[39mkwargs)\n",
      "File \u001b[1;32m~\\Anaconda3\\envs\\qcodes\\lib\\site-packages\\qm\\QmQueue.py:123\u001b[0m, in \u001b[0;36mQmQueue._insert\u001b[1;34m(self, program, position, **kwargs)\u001b[0m\n\u001b[0;32m    <a href='file:///c%3A/Users/T7-2/Anaconda3/envs/qcodes/lib/site-packages/qm/QmQueue.py?line=119'>120</a>\u001b[0m \u001b[39mdef\u001b[39;00m \u001b[39m_insert\u001b[39m(\n\u001b[0;32m    <a href='file:///c%3A/Users/T7-2/Anaconda3/envs/qcodes/lib/site-packages/qm/QmQueue.py?line=120'>121</a>\u001b[0m     \u001b[39mself\u001b[39m, program: _Program, position: _QueuePosition, \u001b[39m*\u001b[39m\u001b[39m*\u001b[39mkwargs\n\u001b[0;32m    <a href='file:///c%3A/Users/T7-2/Anaconda3/envs/qcodes/lib/site-packages/qm/QmQueue.py?line=121'>122</a>\u001b[0m ) \u001b[39m-\u001b[39m\u001b[39m>\u001b[39m QmPendingJob:\n\u001b[1;32m--> <a href='file:///c%3A/Users/T7-2/Anaconda3/envs/qcodes/lib/site-packages/qm/QmQueue.py?line=122'>123</a>\u001b[0m     \u001b[39mreturn\u001b[39;00m \u001b[39mself\u001b[39m\u001b[39m.\u001b[39m_insert_pb(\n\u001b[0;32m    <a href='file:///c%3A/Users/T7-2/Anaconda3/envs/qcodes/lib/site-packages/qm/QmQueue.py?line=123'>124</a>\u001b[0m         program\u001b[39m.\u001b[39mbuild(\u001b[39mself\u001b[39m\u001b[39m.\u001b[39m_machine\u001b[39m.\u001b[39m_pb_config), position, \u001b[39m*\u001b[39m\u001b[39m*\u001b[39mkwargs\n\u001b[0;32m    <a href='file:///c%3A/Users/T7-2/Anaconda3/envs/qcodes/lib/site-packages/qm/QmQueue.py?line=124'>125</a>\u001b[0m     )\n",
      "File \u001b[1;32m~\\Anaconda3\\envs\\qcodes\\lib\\site-packages\\qm\\QmQueue.py:188\u001b[0m, in \u001b[0;36mQmQueue._insert_pb\u001b[1;34m(self, program, position, **kwargs)\u001b[0m\n\u001b[0;32m    <a href='file:///c%3A/Users/T7-2/Anaconda3/envs/qcodes/lib/site-packages/qm/QmQueue.py?line=185'>186</a>\u001b[0m request\u001b[39m.\u001b[39mqueuePosition\u001b[39m.\u001b[39mCopyFrom(queue_position)\n\u001b[0;32m    <a href='file:///c%3A/Users/T7-2/Anaconda3/envs/qcodes/lib/site-packages/qm/QmQueue.py?line=186'>187</a>\u001b[0m response \u001b[39m=\u001b[39m \u001b[39mself\u001b[39m\u001b[39m.\u001b[39m_qmm\u001b[39m.\u001b[39m_frontend\u001b[39m.\u001b[39mAddToQueue(request)\n\u001b[1;32m--> <a href='file:///c%3A/Users/T7-2/Anaconda3/envs/qcodes/lib/site-packages/qm/QmQueue.py?line=187'>188</a>\u001b[0m \u001b[39mreturn\u001b[39;00m \u001b[39mself\u001b[39;49m\u001b[39m.\u001b[39;49m_parse_add_to_queue_response(response)\n",
      "File \u001b[1;32m~\\Anaconda3\\envs\\qcodes\\lib\\site-packages\\qm\\QmQueue.py:149\u001b[0m, in \u001b[0;36mQmQueue._parse_add_to_queue_response\u001b[1;34m(self, response)\u001b[0m\n\u001b[0;32m    <a href='file:///c%3A/Users/T7-2/Anaconda3/envs/qcodes/lib/site-packages/qm/QmQueue.py?line=146'>147</a>\u001b[0m \u001b[39mif\u001b[39;00m \u001b[39mnot\u001b[39;00m response\u001b[39m.\u001b[39mok:\n\u001b[0;32m    <a href='file:///c%3A/Users/T7-2/Anaconda3/envs/qcodes/lib/site-packages/qm/QmQueue.py?line=147'>148</a>\u001b[0m     logger\u001b[39m.\u001b[39merror(\u001b[39m\"\u001b[39m\u001b[39mJob \u001b[39m\u001b[39m\"\u001b[39m \u001b[39m+\u001b[39m job_id \u001b[39m+\u001b[39m \u001b[39m\"\u001b[39m\u001b[39m failed. Failed to execute program.\u001b[39m\u001b[39m\"\u001b[39m)\n\u001b[1;32m--> <a href='file:///c%3A/Users/T7-2/Anaconda3/envs/qcodes/lib/site-packages/qm/QmQueue.py?line=148'>149</a>\u001b[0m     \u001b[39mraise\u001b[39;00m FailedToAddJobToQueueException(job_id)\n\u001b[0;32m    <a href='file:///c%3A/Users/T7-2/Anaconda3/envs/qcodes/lib/site-packages/qm/QmQueue.py?line=150'>151</a>\u001b[0m \u001b[39mreturn\u001b[39;00m QmPendingJob(job_id, \u001b[39mself\u001b[39m\u001b[39m.\u001b[39m_machine, \u001b[39mself\u001b[39m\u001b[39m.\u001b[39m_qmm)\n",
      "\u001b[1;31mFailedToAddJobToQueueException\u001b[0m: 1650454743249"
     ]
    }
   ],
   "source": [
    "def hold_action(channel,time,looped=False):\n",
    "    return {'action':'hold' , 'channel':channel , 'action_variables':{'time':time},'looped':looped}\n",
    "\n",
    "def step_action(channel,value,time,looped=False,looped_variable='step_value',loop_index=0):\n",
    "    return {'action':'step' , 'channel':channel , 'action_variables':{'time':time,'step_value':value},'looped':looped,'looper':looped_variable,'loop_index':loop_index}\n",
    "\n",
    "def ramp_action(channel,rate,time,looped=False):\n",
    "    return {'action':'ramp' , 'channel':channel , 'action_variables':{'time':time,'rate':rate},'looped':looped}\n",
    "\n",
    "def meas_action(channel,type='full',pulse='readout_pulse_0_05',looped=False,buffer_size=16,slices=100,analog_output='out1'):\n",
    "    return {'action':'meas' , 'channel':channel , 'action_variables':{'type':type , 'pulse':pulse,'buffer_size':buffer_size,'slices':slices,'analog_output':analog_output},'looped':looped}\n",
    "\n",
    "\n",
    "from qmachine.pulse_generator.config import config\n",
    "from qmachine.pulse_generator.pulse_generator import Pulser\n",
    "import numpy as np\n",
    "pulse_maker=Pulser(config)\n",
    "step_time=10000\n",
    "\n",
    "actions_m1={'steps':{\n",
    "                '1':\n",
    "                    {'ch1':step_action(channel='ch1',value=np.linspace(0.1,0.3,4),time=step_time//4,looped=True,looped_variable='step_value',loop_index='0'),\n",
    "                    'ch2':step_action('ch2',np.linspace(-0.1,-0.3,4),step_time//4,True,'step_value',loop_index='1'),\n",
    "                    'm1':meas_action('m1',type='sliced',slices=100,buffer_size=[100,4,4])},\n",
    "                '2':\n",
    "                    {'ch1':step_action('ch1',np.linspace(-0.1,-0.3,4),step_time//4,True,'step_value',loop_index='0'),\n",
    "                    'ch2':step_action('ch2',np.linspace(0.1,0.3,4),step_time//4,True,'step_value',loop_index='1')}},\n",
    "        'looped':[4,4],\n",
    "        'channels':['ch1','ch2','m1']}\n",
    "\n",
    "\n",
    "actions_m2={'steps':{\n",
    "                '1':\n",
    "                    {'ch1':step_action('ch1',np.linspace(0.1,0.3,4),step_time//4,True,'step_value',loop_index='0'),\n",
    "                    'ch2':step_action('ch2',np.linspace(-0.1,-0.3,4),step_time//4,True,'step_value',loop_index='1')},\n",
    "                '2':\n",
    "                    {'ch1':step_action('ch1',np.linspace(-0.1,-0.3,4),step_time//4,True,'step_value',loop_index='0'),\n",
    "                    'ch2':step_action('ch2',np.linspace(0.1,0.3,4),step_time//4,True,'step_value',loop_index='1'),\n",
    "                    'm1':meas_action('m1',buffer_size=[4,4])}},\n",
    "        'looped':[4,4],\n",
    "        'channels':['ch1','ch2','m1']}\n",
    "\n",
    "# actions={'steps':{\n",
    "#                 '1':\n",
    "#                     {'ch1':step_action('ch1',0.1,1000//4,False,'step_value',loop_index='0')},\n",
    "#                 '2':\n",
    "#                     {'ch1':step_action('ch1',-0.1,1000//4,False,'step_value',loop_index='0')}},\n",
    "#         'channels':['ch1']}\n",
    "\n",
    "\n",
    "# import pprint\n",
    "# pprint.pprint(actions)\n",
    "\n",
    "seq,mod_actions=pulse_maker.build_seq(actions_m1)\n",
    "\n",
    "job=pulse_maker.simulate_pulse(seq,320000//4+300//4)\n",
    "# pulse_maker.open_qm(pulse_maker.config)\n",
    "# job=pulse_maker.qm.execute(seq)"
   ]
  },
  {
   "cell_type": "code",
   "execution_count": 2,
   "metadata": {},
   "outputs": [
    {
     "name": "stdout",
     "output_type": "stream",
     "text": [
      "{'action': 'meas',\n",
      " 'action_variables': {'I_name': 'I_1',\n",
      "                      'Q_name': 'Q_1',\n",
      "                      'buffer_size': 16,\n",
      "                      'pulse': 'readout_pulse_0_05',\n",
      "                      'save_I': <qm.qua._dsl._Expression object at 0x0000018531559930>,\n",
      "                      'save_I_stream': <qm.qua._dsl._ResultSource object at 0x0000018531559DB0>,\n",
      "                      'save_Q': <qm.qua._dsl._Expression object at 0x0000018531559CC0>,\n",
      "                      'save_Q_stream': <qm.qua._dsl._ResultSource object at 0x0000018531559E70>,\n",
      "                      'type': 'full'},\n",
      " 'channel': 'm1',\n",
      " 'looped': False}\n"
     ]
    }
   ],
   "source": [
    "import pprint\n",
    "pprint.pprint(mod_actions['steps']['1']['m1'])"
   ]
  },
  {
   "cell_type": "code",
   "execution_count": 3,
   "metadata": {},
   "outputs": [],
   "source": [
    "all_results= {key : item.fetch_all() for key,item in job.result_handles._all_results.items()}"
   ]
  },
  {
   "cell_type": "code",
   "execution_count": 9,
   "metadata": {},
   "outputs": [
    {
     "data": {
      "text/plain": [
       "{'I_1': array([[-4.44129109e-05,  5.35473228e-05, -3.15643847e-05,\n",
       "          5.62518835e-07],\n",
       "        [-5.13009727e-05, -4.79780138e-05,  1.23046339e-05,\n",
       "          1.35041773e-05],\n",
       "        [-1.17532909e-05,  6.90855086e-05, -3.35797668e-05,\n",
       "          4.88273799e-05],\n",
       "        [ 1.33365393e-06,  2.10516155e-05,  2.21356750e-05,\n",
       "         -3.69548798e-06]]),\n",
       " 'Q_1': array([[ 2.43149698e-05, -1.97142363e-05,  2.19568610e-05,\n",
       "          2.96868384e-05],\n",
       "        [-1.34482980e-05,  8.08872283e-05, -1.69165432e-05,\n",
       "         -1.37239695e-05],\n",
       "        [-4.39323485e-05, -1.82092190e-05,  1.79819763e-05,\n",
       "          5.43892384e-07],\n",
       "        [-4.40701842e-05,  1.52885914e-05, -4.50015068e-05,\n",
       "         -1.16005540e-05]])}"
      ]
     },
     "execution_count": 9,
     "metadata": {},
     "output_type": "execute_result"
    }
   ],
   "source": [
    "all_results"
   ]
  },
  {
   "cell_type": "code",
   "execution_count": 4,
   "metadata": {},
   "outputs": [],
   "source": [
    "t=job.result_handles.get('I_1')"
   ]
  },
  {
   "cell_type": "code",
   "execution_count": 6,
   "metadata": {},
   "outputs": [
    {
     "data": {
      "text/plain": [
       "(4, 4)"
      ]
     },
     "execution_count": 6,
     "metadata": {},
     "output_type": "execute_result"
    }
   ],
   "source": [
    "t.fetch_all().shape"
   ]
  },
  {
   "cell_type": "code",
   "execution_count": 1,
   "metadata": {},
   "outputs": [
    {
     "data": {
      "text/plain": [
       "6000.0"
      ]
     },
     "execution_count": 1,
     "metadata": {},
     "output_type": "execute_result"
    }
   ],
   "source": [
    "36e3//6\n"
   ]
  },
  {
   "cell_type": "code",
   "execution_count": null,
   "metadata": {},
   "outputs": [],
   "source": []
  }
 ],
 "metadata": {
  "interpreter": {
   "hash": "4eae3ed281160ac02d16648a444efc80b0ba0f44f38eff452e6d1c183e330a73"
  },
  "kernelspec": {
   "display_name": "Python 3.7.9 ('qcodes')",
   "language": "python",
   "name": "python3"
  },
  "language_info": {
   "codemirror_mode": {
    "name": "ipython",
    "version": 3
   },
   "file_extension": ".py",
   "mimetype": "text/x-python",
   "name": "python",
   "nbconvert_exporter": "python",
   "pygments_lexer": "ipython3",
   "version": "3.10.2"
  },
  "orig_nbformat": 4
 },
 "nbformat": 4,
 "nbformat_minor": 2
}
