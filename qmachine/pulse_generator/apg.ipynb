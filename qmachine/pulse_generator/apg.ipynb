{
 "cells": [
  {
   "cell_type": "code",
   "execution_count": 11,
   "metadata": {},
   "outputs": [
    {
     "name": "stdout",
     "output_type": "stream",
     "text": [
      "2022-04-20 17:30:27,609 - qm - INFO - Performing health check\n",
      "2022-04-20 17:30:27,612 - qm - INFO - Health check passed\n",
      "2022-04-20 17:30:27,770 - qm - INFO - to simulate a program, use QuantumMachinesManager.simulate(..)\n",
      "2022-04-20 17:30:27,815 - qm - INFO - Flags: \n",
      "2022-04-20 17:30:27,816 - qm - INFO - Simulating program\n",
      "Error in callback <function flush_figures at 0x000002984AC58B80> (for post_execute):\n"
     ]
    },
    {
     "ename": "KeyboardInterrupt",
     "evalue": "",
     "output_type": "error",
     "traceback": [
      "\u001b[1;31m---------------------------------------------------------------------------\u001b[0m",
      "\u001b[1;31mKeyboardInterrupt\u001b[0m                         Traceback (most recent call last)",
      "File \u001b[1;32m~\\Anaconda3\\envs\\qcodes\\lib\\site-packages\\matplotlib_inline\\backend_inline.py:121\u001b[0m, in \u001b[0;36mflush_figures\u001b[1;34m()\u001b[0m\n\u001b[0;32m    <a href='file:///c%3A/Users/T7-2/Anaconda3/envs/qcodes/lib/site-packages/matplotlib_inline/backend_inline.py?line=117'>118</a>\u001b[0m \u001b[39mif\u001b[39;00m InlineBackend\u001b[39m.\u001b[39minstance()\u001b[39m.\u001b[39mclose_figures:\n\u001b[0;32m    <a href='file:///c%3A/Users/T7-2/Anaconda3/envs/qcodes/lib/site-packages/matplotlib_inline/backend_inline.py?line=118'>119</a>\u001b[0m     \u001b[39m# ignore the tracking, just draw and close all figures\u001b[39;00m\n\u001b[0;32m    <a href='file:///c%3A/Users/T7-2/Anaconda3/envs/qcodes/lib/site-packages/matplotlib_inline/backend_inline.py?line=119'>120</a>\u001b[0m     \u001b[39mtry\u001b[39;00m:\n\u001b[1;32m--> <a href='file:///c%3A/Users/T7-2/Anaconda3/envs/qcodes/lib/site-packages/matplotlib_inline/backend_inline.py?line=120'>121</a>\u001b[0m         \u001b[39mreturn\u001b[39;00m show(\u001b[39mTrue\u001b[39;49;00m)\n\u001b[0;32m    <a href='file:///c%3A/Users/T7-2/Anaconda3/envs/qcodes/lib/site-packages/matplotlib_inline/backend_inline.py?line=121'>122</a>\u001b[0m     \u001b[39mexcept\u001b[39;00m \u001b[39mException\u001b[39;00m \u001b[39mas\u001b[39;00m e:\n\u001b[0;32m    <a href='file:///c%3A/Users/T7-2/Anaconda3/envs/qcodes/lib/site-packages/matplotlib_inline/backend_inline.py?line=122'>123</a>\u001b[0m         \u001b[39m# safely show traceback if in IPython, else raise\u001b[39;00m\n\u001b[0;32m    <a href='file:///c%3A/Users/T7-2/Anaconda3/envs/qcodes/lib/site-packages/matplotlib_inline/backend_inline.py?line=123'>124</a>\u001b[0m         ip \u001b[39m=\u001b[39m get_ipython()\n",
      "File \u001b[1;32m~\\Anaconda3\\envs\\qcodes\\lib\\site-packages\\matplotlib_inline\\backend_inline.py:41\u001b[0m, in \u001b[0;36mshow\u001b[1;34m(close, block)\u001b[0m\n\u001b[0;32m     <a href='file:///c%3A/Users/T7-2/Anaconda3/envs/qcodes/lib/site-packages/matplotlib_inline/backend_inline.py?line=38'>39</a>\u001b[0m \u001b[39mtry\u001b[39;00m:\n\u001b[0;32m     <a href='file:///c%3A/Users/T7-2/Anaconda3/envs/qcodes/lib/site-packages/matplotlib_inline/backend_inline.py?line=39'>40</a>\u001b[0m     \u001b[39mfor\u001b[39;00m figure_manager \u001b[39min\u001b[39;00m Gcf\u001b[39m.\u001b[39mget_all_fig_managers():\n\u001b[1;32m---> <a href='file:///c%3A/Users/T7-2/Anaconda3/envs/qcodes/lib/site-packages/matplotlib_inline/backend_inline.py?line=40'>41</a>\u001b[0m         display(\n\u001b[0;32m     <a href='file:///c%3A/Users/T7-2/Anaconda3/envs/qcodes/lib/site-packages/matplotlib_inline/backend_inline.py?line=41'>42</a>\u001b[0m             figure_manager\u001b[39m.\u001b[39;49mcanvas\u001b[39m.\u001b[39;49mfigure,\n\u001b[0;32m     <a href='file:///c%3A/Users/T7-2/Anaconda3/envs/qcodes/lib/site-packages/matplotlib_inline/backend_inline.py?line=42'>43</a>\u001b[0m             metadata\u001b[39m=\u001b[39;49m_fetch_figure_metadata(figure_manager\u001b[39m.\u001b[39;49mcanvas\u001b[39m.\u001b[39;49mfigure)\n\u001b[0;32m     <a href='file:///c%3A/Users/T7-2/Anaconda3/envs/qcodes/lib/site-packages/matplotlib_inline/backend_inline.py?line=43'>44</a>\u001b[0m         )\n\u001b[0;32m     <a href='file:///c%3A/Users/T7-2/Anaconda3/envs/qcodes/lib/site-packages/matplotlib_inline/backend_inline.py?line=44'>45</a>\u001b[0m \u001b[39mfinally\u001b[39;00m:\n\u001b[0;32m     <a href='file:///c%3A/Users/T7-2/Anaconda3/envs/qcodes/lib/site-packages/matplotlib_inline/backend_inline.py?line=45'>46</a>\u001b[0m     show\u001b[39m.\u001b[39m_to_draw \u001b[39m=\u001b[39m []\n",
      "File \u001b[1;32m~\\Anaconda3\\envs\\qcodes\\lib\\site-packages\\IPython\\core\\display_functions.py:298\u001b[0m, in \u001b[0;36mdisplay\u001b[1;34m(include, exclude, metadata, transient, display_id, raw, clear, *objs, **kwargs)\u001b[0m\n\u001b[0;32m    <a href='file:///c%3A/Users/T7-2/Anaconda3/envs/qcodes/lib/site-packages/IPython/core/display_functions.py?line=295'>296</a>\u001b[0m     publish_display_data(data\u001b[39m=\u001b[39mobj, metadata\u001b[39m=\u001b[39mmetadata, \u001b[39m*\u001b[39m\u001b[39m*\u001b[39mkwargs)\n\u001b[0;32m    <a href='file:///c%3A/Users/T7-2/Anaconda3/envs/qcodes/lib/site-packages/IPython/core/display_functions.py?line=296'>297</a>\u001b[0m \u001b[39melse\u001b[39;00m:\n\u001b[1;32m--> <a href='file:///c%3A/Users/T7-2/Anaconda3/envs/qcodes/lib/site-packages/IPython/core/display_functions.py?line=297'>298</a>\u001b[0m     format_dict, md_dict \u001b[39m=\u001b[39m \u001b[39mformat\u001b[39;49m(obj, include\u001b[39m=\u001b[39;49minclude, exclude\u001b[39m=\u001b[39;49mexclude)\n\u001b[0;32m    <a href='file:///c%3A/Users/T7-2/Anaconda3/envs/qcodes/lib/site-packages/IPython/core/display_functions.py?line=298'>299</a>\u001b[0m     \u001b[39mif\u001b[39;00m \u001b[39mnot\u001b[39;00m format_dict:\n\u001b[0;32m    <a href='file:///c%3A/Users/T7-2/Anaconda3/envs/qcodes/lib/site-packages/IPython/core/display_functions.py?line=299'>300</a>\u001b[0m         \u001b[39m# nothing to display (e.g. _ipython_display_ took over)\u001b[39;00m\n\u001b[0;32m    <a href='file:///c%3A/Users/T7-2/Anaconda3/envs/qcodes/lib/site-packages/IPython/core/display_functions.py?line=300'>301</a>\u001b[0m         \u001b[39mcontinue\u001b[39;00m\n",
      "File \u001b[1;32m~\\Anaconda3\\envs\\qcodes\\lib\\site-packages\\IPython\\core\\formatters.py:178\u001b[0m, in \u001b[0;36mDisplayFormatter.format\u001b[1;34m(self, obj, include, exclude)\u001b[0m\n\u001b[0;32m    <a href='file:///c%3A/Users/T7-2/Anaconda3/envs/qcodes/lib/site-packages/IPython/core/formatters.py?line=175'>176</a>\u001b[0m md \u001b[39m=\u001b[39m \u001b[39mNone\u001b[39;00m\n\u001b[0;32m    <a href='file:///c%3A/Users/T7-2/Anaconda3/envs/qcodes/lib/site-packages/IPython/core/formatters.py?line=176'>177</a>\u001b[0m \u001b[39mtry\u001b[39;00m:\n\u001b[1;32m--> <a href='file:///c%3A/Users/T7-2/Anaconda3/envs/qcodes/lib/site-packages/IPython/core/formatters.py?line=177'>178</a>\u001b[0m     data \u001b[39m=\u001b[39m formatter(obj)\n\u001b[0;32m    <a href='file:///c%3A/Users/T7-2/Anaconda3/envs/qcodes/lib/site-packages/IPython/core/formatters.py?line=178'>179</a>\u001b[0m \u001b[39mexcept\u001b[39;00m:\n\u001b[0;32m    <a href='file:///c%3A/Users/T7-2/Anaconda3/envs/qcodes/lib/site-packages/IPython/core/formatters.py?line=179'>180</a>\u001b[0m     \u001b[39m# FIXME: log the exception\u001b[39;00m\n\u001b[0;32m    <a href='file:///c%3A/Users/T7-2/Anaconda3/envs/qcodes/lib/site-packages/IPython/core/formatters.py?line=180'>181</a>\u001b[0m     \u001b[39mraise\u001b[39;00m\n",
      "File \u001b[1;32m~\\Anaconda3\\envs\\qcodes\\lib\\site-packages\\decorator.py:232\u001b[0m, in \u001b[0;36mdecorate.<locals>.fun\u001b[1;34m(*args, **kw)\u001b[0m\n\u001b[0;32m    <a href='file:///c%3A/Users/T7-2/Anaconda3/envs/qcodes/lib/site-packages/decorator.py?line=229'>230</a>\u001b[0m \u001b[39mif\u001b[39;00m \u001b[39mnot\u001b[39;00m kwsyntax:\n\u001b[0;32m    <a href='file:///c%3A/Users/T7-2/Anaconda3/envs/qcodes/lib/site-packages/decorator.py?line=230'>231</a>\u001b[0m     args, kw \u001b[39m=\u001b[39m fix(args, kw, sig)\n\u001b[1;32m--> <a href='file:///c%3A/Users/T7-2/Anaconda3/envs/qcodes/lib/site-packages/decorator.py?line=231'>232</a>\u001b[0m \u001b[39mreturn\u001b[39;00m caller(func, \u001b[39m*\u001b[39m(extras \u001b[39m+\u001b[39m args), \u001b[39m*\u001b[39m\u001b[39m*\u001b[39mkw)\n",
      "File \u001b[1;32m~\\Anaconda3\\envs\\qcodes\\lib\\site-packages\\IPython\\core\\formatters.py:222\u001b[0m, in \u001b[0;36mcatch_format_error\u001b[1;34m(method, self, *args, **kwargs)\u001b[0m\n\u001b[0;32m    <a href='file:///c%3A/Users/T7-2/Anaconda3/envs/qcodes/lib/site-packages/IPython/core/formatters.py?line=219'>220</a>\u001b[0m \u001b[39m\"\"\"show traceback on failed format call\"\"\"\u001b[39;00m\n\u001b[0;32m    <a href='file:///c%3A/Users/T7-2/Anaconda3/envs/qcodes/lib/site-packages/IPython/core/formatters.py?line=220'>221</a>\u001b[0m \u001b[39mtry\u001b[39;00m:\n\u001b[1;32m--> <a href='file:///c%3A/Users/T7-2/Anaconda3/envs/qcodes/lib/site-packages/IPython/core/formatters.py?line=221'>222</a>\u001b[0m     r \u001b[39m=\u001b[39m method(\u001b[39mself\u001b[39m, \u001b[39m*\u001b[39margs, \u001b[39m*\u001b[39m\u001b[39m*\u001b[39mkwargs)\n\u001b[0;32m    <a href='file:///c%3A/Users/T7-2/Anaconda3/envs/qcodes/lib/site-packages/IPython/core/formatters.py?line=222'>223</a>\u001b[0m \u001b[39mexcept\u001b[39;00m \u001b[39mNotImplementedError\u001b[39;00m:\n\u001b[0;32m    <a href='file:///c%3A/Users/T7-2/Anaconda3/envs/qcodes/lib/site-packages/IPython/core/formatters.py?line=223'>224</a>\u001b[0m     \u001b[39m# don't warn on NotImplementedErrors\u001b[39;00m\n\u001b[0;32m    <a href='file:///c%3A/Users/T7-2/Anaconda3/envs/qcodes/lib/site-packages/IPython/core/formatters.py?line=224'>225</a>\u001b[0m     \u001b[39mreturn\u001b[39;00m \u001b[39mself\u001b[39m\u001b[39m.\u001b[39m_check_return(\u001b[39mNone\u001b[39;00m, args[\u001b[39m0\u001b[39m])\n",
      "File \u001b[1;32m~\\Anaconda3\\envs\\qcodes\\lib\\site-packages\\IPython\\core\\formatters.py:339\u001b[0m, in \u001b[0;36mBaseFormatter.__call__\u001b[1;34m(self, obj)\u001b[0m\n\u001b[0;32m    <a href='file:///c%3A/Users/T7-2/Anaconda3/envs/qcodes/lib/site-packages/IPython/core/formatters.py?line=336'>337</a>\u001b[0m     \u001b[39mpass\u001b[39;00m\n\u001b[0;32m    <a href='file:///c%3A/Users/T7-2/Anaconda3/envs/qcodes/lib/site-packages/IPython/core/formatters.py?line=337'>338</a>\u001b[0m \u001b[39melse\u001b[39;00m:\n\u001b[1;32m--> <a href='file:///c%3A/Users/T7-2/Anaconda3/envs/qcodes/lib/site-packages/IPython/core/formatters.py?line=338'>339</a>\u001b[0m     \u001b[39mreturn\u001b[39;00m printer(obj)\n\u001b[0;32m    <a href='file:///c%3A/Users/T7-2/Anaconda3/envs/qcodes/lib/site-packages/IPython/core/formatters.py?line=339'>340</a>\u001b[0m \u001b[39m# Finally look for special method names\u001b[39;00m\n\u001b[0;32m    <a href='file:///c%3A/Users/T7-2/Anaconda3/envs/qcodes/lib/site-packages/IPython/core/formatters.py?line=340'>341</a>\u001b[0m method \u001b[39m=\u001b[39m get_real_method(obj, \u001b[39mself\u001b[39m\u001b[39m.\u001b[39mprint_method)\n",
      "File \u001b[1;32m~\\Anaconda3\\envs\\qcodes\\lib\\site-packages\\IPython\\core\\pylabtools.py:151\u001b[0m, in \u001b[0;36mprint_figure\u001b[1;34m(fig, fmt, bbox_inches, base64, **kwargs)\u001b[0m\n\u001b[0;32m    <a href='file:///c%3A/Users/T7-2/Anaconda3/envs/qcodes/lib/site-packages/IPython/core/pylabtools.py?line=147'>148</a>\u001b[0m     \u001b[39mfrom\u001b[39;00m \u001b[39mmatplotlib\u001b[39;00m\u001b[39m.\u001b[39;00m\u001b[39mbackend_bases\u001b[39;00m \u001b[39mimport\u001b[39;00m FigureCanvasBase\n\u001b[0;32m    <a href='file:///c%3A/Users/T7-2/Anaconda3/envs/qcodes/lib/site-packages/IPython/core/pylabtools.py?line=148'>149</a>\u001b[0m     FigureCanvasBase(fig)\n\u001b[1;32m--> <a href='file:///c%3A/Users/T7-2/Anaconda3/envs/qcodes/lib/site-packages/IPython/core/pylabtools.py?line=150'>151</a>\u001b[0m fig\u001b[39m.\u001b[39mcanvas\u001b[39m.\u001b[39mprint_figure(bytes_io, \u001b[39m*\u001b[39m\u001b[39m*\u001b[39mkw)\n\u001b[0;32m    <a href='file:///c%3A/Users/T7-2/Anaconda3/envs/qcodes/lib/site-packages/IPython/core/pylabtools.py?line=151'>152</a>\u001b[0m data \u001b[39m=\u001b[39m bytes_io\u001b[39m.\u001b[39mgetvalue()\n\u001b[0;32m    <a href='file:///c%3A/Users/T7-2/Anaconda3/envs/qcodes/lib/site-packages/IPython/core/pylabtools.py?line=152'>153</a>\u001b[0m \u001b[39mif\u001b[39;00m fmt \u001b[39m==\u001b[39m \u001b[39m'\u001b[39m\u001b[39msvg\u001b[39m\u001b[39m'\u001b[39m:\n",
      "File \u001b[1;32m~\\Anaconda3\\envs\\qcodes\\lib\\site-packages\\matplotlib\\backend_bases.py:2319\u001b[0m, in \u001b[0;36mFigureCanvasBase.print_figure\u001b[1;34m(self, filename, dpi, facecolor, edgecolor, orientation, format, bbox_inches, pad_inches, bbox_extra_artists, backend, **kwargs)\u001b[0m\n\u001b[0;32m   <a href='file:///c%3A/Users/T7-2/Anaconda3/envs/qcodes/lib/site-packages/matplotlib/backend_bases.py?line=2314'>2315</a>\u001b[0m \u001b[39mtry\u001b[39;00m:\n\u001b[0;32m   <a href='file:///c%3A/Users/T7-2/Anaconda3/envs/qcodes/lib/site-packages/matplotlib/backend_bases.py?line=2315'>2316</a>\u001b[0m     \u001b[39m# _get_renderer may change the figure dpi (as vector formats\u001b[39;00m\n\u001b[0;32m   <a href='file:///c%3A/Users/T7-2/Anaconda3/envs/qcodes/lib/site-packages/matplotlib/backend_bases.py?line=2316'>2317</a>\u001b[0m     \u001b[39m# force the figure dpi to 72), so we need to set it again here.\u001b[39;00m\n\u001b[0;32m   <a href='file:///c%3A/Users/T7-2/Anaconda3/envs/qcodes/lib/site-packages/matplotlib/backend_bases.py?line=2317'>2318</a>\u001b[0m     \u001b[39mwith\u001b[39;00m cbook\u001b[39m.\u001b[39m_setattr_cm(\u001b[39mself\u001b[39m\u001b[39m.\u001b[39mfigure, dpi\u001b[39m=\u001b[39mdpi):\n\u001b[1;32m-> <a href='file:///c%3A/Users/T7-2/Anaconda3/envs/qcodes/lib/site-packages/matplotlib/backend_bases.py?line=2318'>2319</a>\u001b[0m         result \u001b[39m=\u001b[39m print_method(\n\u001b[0;32m   <a href='file:///c%3A/Users/T7-2/Anaconda3/envs/qcodes/lib/site-packages/matplotlib/backend_bases.py?line=2319'>2320</a>\u001b[0m             filename,\n\u001b[0;32m   <a href='file:///c%3A/Users/T7-2/Anaconda3/envs/qcodes/lib/site-packages/matplotlib/backend_bases.py?line=2320'>2321</a>\u001b[0m             facecolor\u001b[39m=\u001b[39mfacecolor,\n\u001b[0;32m   <a href='file:///c%3A/Users/T7-2/Anaconda3/envs/qcodes/lib/site-packages/matplotlib/backend_bases.py?line=2321'>2322</a>\u001b[0m             edgecolor\u001b[39m=\u001b[39medgecolor,\n\u001b[0;32m   <a href='file:///c%3A/Users/T7-2/Anaconda3/envs/qcodes/lib/site-packages/matplotlib/backend_bases.py?line=2322'>2323</a>\u001b[0m             orientation\u001b[39m=\u001b[39morientation,\n\u001b[0;32m   <a href='file:///c%3A/Users/T7-2/Anaconda3/envs/qcodes/lib/site-packages/matplotlib/backend_bases.py?line=2323'>2324</a>\u001b[0m             bbox_inches_restore\u001b[39m=\u001b[39m_bbox_inches_restore,\n\u001b[0;32m   <a href='file:///c%3A/Users/T7-2/Anaconda3/envs/qcodes/lib/site-packages/matplotlib/backend_bases.py?line=2324'>2325</a>\u001b[0m             \u001b[39m*\u001b[39m\u001b[39m*\u001b[39mkwargs)\n\u001b[0;32m   <a href='file:///c%3A/Users/T7-2/Anaconda3/envs/qcodes/lib/site-packages/matplotlib/backend_bases.py?line=2325'>2326</a>\u001b[0m \u001b[39mfinally\u001b[39;00m:\n\u001b[0;32m   <a href='file:///c%3A/Users/T7-2/Anaconda3/envs/qcodes/lib/site-packages/matplotlib/backend_bases.py?line=2326'>2327</a>\u001b[0m     \u001b[39mif\u001b[39;00m bbox_inches \u001b[39mand\u001b[39;00m restore_bbox:\n",
      "File \u001b[1;32m~\\Anaconda3\\envs\\qcodes\\lib\\site-packages\\matplotlib\\backend_bases.py:1648\u001b[0m, in \u001b[0;36m_check_savefig_extra_args.<locals>.wrapper\u001b[1;34m(*args, **kwargs)\u001b[0m\n\u001b[0;32m   <a href='file:///c%3A/Users/T7-2/Anaconda3/envs/qcodes/lib/site-packages/matplotlib/backend_bases.py?line=1639'>1640</a>\u001b[0m     _api\u001b[39m.\u001b[39mwarn_deprecated(\n\u001b[0;32m   <a href='file:///c%3A/Users/T7-2/Anaconda3/envs/qcodes/lib/site-packages/matplotlib/backend_bases.py?line=1640'>1641</a>\u001b[0m         \u001b[39m'\u001b[39m\u001b[39m3.3\u001b[39m\u001b[39m'\u001b[39m, name\u001b[39m=\u001b[39mname, removal\u001b[39m=\u001b[39m\u001b[39m'\u001b[39m\u001b[39m3.6\u001b[39m\u001b[39m'\u001b[39m,\n\u001b[0;32m   <a href='file:///c%3A/Users/T7-2/Anaconda3/envs/qcodes/lib/site-packages/matplotlib/backend_bases.py?line=1641'>1642</a>\u001b[0m         message\u001b[39m=\u001b[39m\u001b[39m'\u001b[39m\u001b[39m%(name)s\u001b[39;00m\u001b[39m() got unexpected keyword argument \u001b[39m\u001b[39m\"\u001b[39m\u001b[39m'\u001b[39m\n\u001b[0;32m   <a href='file:///c%3A/Users/T7-2/Anaconda3/envs/qcodes/lib/site-packages/matplotlib/backend_bases.py?line=1642'>1643</a>\u001b[0m                 \u001b[39m+\u001b[39m arg \u001b[39m+\u001b[39m \u001b[39m'\u001b[39m\u001b[39m\"\u001b[39m\u001b[39m which is no longer supported as of \u001b[39m\u001b[39m'\u001b[39m\n\u001b[0;32m   <a href='file:///c%3A/Users/T7-2/Anaconda3/envs/qcodes/lib/site-packages/matplotlib/backend_bases.py?line=1643'>1644</a>\u001b[0m                 \u001b[39m'\u001b[39m\u001b[39m%(since)s\u001b[39;00m\u001b[39m and will become an error \u001b[39m\u001b[39m'\u001b[39m\n\u001b[0;32m   <a href='file:///c%3A/Users/T7-2/Anaconda3/envs/qcodes/lib/site-packages/matplotlib/backend_bases.py?line=1644'>1645</a>\u001b[0m                 \u001b[39m'\u001b[39m\u001b[39m%(removal)s\u001b[39;00m\u001b[39m'\u001b[39m)\n\u001b[0;32m   <a href='file:///c%3A/Users/T7-2/Anaconda3/envs/qcodes/lib/site-packages/matplotlib/backend_bases.py?line=1645'>1646</a>\u001b[0m     kwargs\u001b[39m.\u001b[39mpop(arg)\n\u001b[1;32m-> <a href='file:///c%3A/Users/T7-2/Anaconda3/envs/qcodes/lib/site-packages/matplotlib/backend_bases.py?line=1647'>1648</a>\u001b[0m \u001b[39mreturn\u001b[39;00m func(\u001b[39m*\u001b[39margs, \u001b[39m*\u001b[39m\u001b[39m*\u001b[39mkwargs)\n",
      "File \u001b[1;32m~\\Anaconda3\\envs\\qcodes\\lib\\site-packages\\matplotlib\\_api\\deprecation.py:412\u001b[0m, in \u001b[0;36mdelete_parameter.<locals>.wrapper\u001b[1;34m(*inner_args, **inner_kwargs)\u001b[0m\n\u001b[0;32m    <a href='file:///c%3A/Users/T7-2/Anaconda3/envs/qcodes/lib/site-packages/matplotlib/_api/deprecation.py?line=401'>402</a>\u001b[0m     deprecation_addendum \u001b[39m=\u001b[39m (\n\u001b[0;32m    <a href='file:///c%3A/Users/T7-2/Anaconda3/envs/qcodes/lib/site-packages/matplotlib/_api/deprecation.py?line=402'>403</a>\u001b[0m         \u001b[39mf\u001b[39m\u001b[39m\"\u001b[39m\u001b[39mIf any parameter follows \u001b[39m\u001b[39m{\u001b[39;00mname\u001b[39m!r}\u001b[39;00m\u001b[39m, they should be passed as \u001b[39m\u001b[39m\"\u001b[39m\n\u001b[0;32m    <a href='file:///c%3A/Users/T7-2/Anaconda3/envs/qcodes/lib/site-packages/matplotlib/_api/deprecation.py?line=403'>404</a>\u001b[0m         \u001b[39mf\u001b[39m\u001b[39m\"\u001b[39m\u001b[39mkeyword, not positionally.\u001b[39m\u001b[39m\"\u001b[39m)\n\u001b[0;32m    <a href='file:///c%3A/Users/T7-2/Anaconda3/envs/qcodes/lib/site-packages/matplotlib/_api/deprecation.py?line=404'>405</a>\u001b[0m     warn_deprecated(\n\u001b[0;32m    <a href='file:///c%3A/Users/T7-2/Anaconda3/envs/qcodes/lib/site-packages/matplotlib/_api/deprecation.py?line=405'>406</a>\u001b[0m         since,\n\u001b[0;32m    <a href='file:///c%3A/Users/T7-2/Anaconda3/envs/qcodes/lib/site-packages/matplotlib/_api/deprecation.py?line=406'>407</a>\u001b[0m         name\u001b[39m=\u001b[39m\u001b[39mrepr\u001b[39m(name),\n\u001b[1;32m   (...)\u001b[0m\n\u001b[0;32m    <a href='file:///c%3A/Users/T7-2/Anaconda3/envs/qcodes/lib/site-packages/matplotlib/_api/deprecation.py?line=409'>410</a>\u001b[0m                  \u001b[39melse\u001b[39;00m deprecation_addendum,\n\u001b[0;32m    <a href='file:///c%3A/Users/T7-2/Anaconda3/envs/qcodes/lib/site-packages/matplotlib/_api/deprecation.py?line=410'>411</a>\u001b[0m         \u001b[39m*\u001b[39m\u001b[39m*\u001b[39mkwargs)\n\u001b[1;32m--> <a href='file:///c%3A/Users/T7-2/Anaconda3/envs/qcodes/lib/site-packages/matplotlib/_api/deprecation.py?line=411'>412</a>\u001b[0m \u001b[39mreturn\u001b[39;00m func(\u001b[39m*\u001b[39minner_args, \u001b[39m*\u001b[39m\u001b[39m*\u001b[39minner_kwargs)\n",
      "File \u001b[1;32m~\\Anaconda3\\envs\\qcodes\\lib\\site-packages\\matplotlib\\backends\\backend_agg.py:540\u001b[0m, in \u001b[0;36mFigureCanvasAgg.print_png\u001b[1;34m(self, filename_or_obj, metadata, pil_kwargs, *args)\u001b[0m\n\u001b[0;32m    <a href='file:///c%3A/Users/T7-2/Anaconda3/envs/qcodes/lib/site-packages/matplotlib/backends/backend_agg.py?line=489'>490</a>\u001b[0m \u001b[39m@_check_savefig_extra_args\u001b[39m\n\u001b[0;32m    <a href='file:///c%3A/Users/T7-2/Anaconda3/envs/qcodes/lib/site-packages/matplotlib/backends/backend_agg.py?line=490'>491</a>\u001b[0m \u001b[39m@_api\u001b[39m\u001b[39m.\u001b[39mdelete_parameter(\u001b[39m\"\u001b[39m\u001b[39m3.5\u001b[39m\u001b[39m\"\u001b[39m, \u001b[39m\"\u001b[39m\u001b[39margs\u001b[39m\u001b[39m\"\u001b[39m)\n\u001b[0;32m    <a href='file:///c%3A/Users/T7-2/Anaconda3/envs/qcodes/lib/site-packages/matplotlib/backends/backend_agg.py?line=491'>492</a>\u001b[0m \u001b[39mdef\u001b[39;00m \u001b[39mprint_png\u001b[39m(\u001b[39mself\u001b[39m, filename_or_obj, \u001b[39m*\u001b[39margs,\n\u001b[0;32m    <a href='file:///c%3A/Users/T7-2/Anaconda3/envs/qcodes/lib/site-packages/matplotlib/backends/backend_agg.py?line=492'>493</a>\u001b[0m               metadata\u001b[39m=\u001b[39m\u001b[39mNone\u001b[39;00m, pil_kwargs\u001b[39m=\u001b[39m\u001b[39mNone\u001b[39;00m):\n\u001b[0;32m    <a href='file:///c%3A/Users/T7-2/Anaconda3/envs/qcodes/lib/site-packages/matplotlib/backends/backend_agg.py?line=493'>494</a>\u001b[0m     \u001b[39m\"\"\"\u001b[39;00m\n\u001b[0;32m    <a href='file:///c%3A/Users/T7-2/Anaconda3/envs/qcodes/lib/site-packages/matplotlib/backends/backend_agg.py?line=494'>495</a>\u001b[0m \u001b[39m    Write the figure to a PNG file.\u001b[39;00m\n\u001b[0;32m    <a href='file:///c%3A/Users/T7-2/Anaconda3/envs/qcodes/lib/site-packages/matplotlib/backends/backend_agg.py?line=495'>496</a>\u001b[0m \n\u001b[1;32m   (...)\u001b[0m\n\u001b[0;32m    <a href='file:///c%3A/Users/T7-2/Anaconda3/envs/qcodes/lib/site-packages/matplotlib/backends/backend_agg.py?line=537'>538</a>\u001b[0m \u001b[39m        *metadata*, including the default 'Software' key.\u001b[39;00m\n\u001b[0;32m    <a href='file:///c%3A/Users/T7-2/Anaconda3/envs/qcodes/lib/site-packages/matplotlib/backends/backend_agg.py?line=538'>539</a>\u001b[0m \u001b[39m    \"\"\"\u001b[39;00m\n\u001b[1;32m--> <a href='file:///c%3A/Users/T7-2/Anaconda3/envs/qcodes/lib/site-packages/matplotlib/backends/backend_agg.py?line=539'>540</a>\u001b[0m     FigureCanvasAgg\u001b[39m.\u001b[39;49mdraw(\u001b[39mself\u001b[39;49m)\n\u001b[0;32m    <a href='file:///c%3A/Users/T7-2/Anaconda3/envs/qcodes/lib/site-packages/matplotlib/backends/backend_agg.py?line=540'>541</a>\u001b[0m     mpl\u001b[39m.\u001b[39mimage\u001b[39m.\u001b[39mimsave(\n\u001b[0;32m    <a href='file:///c%3A/Users/T7-2/Anaconda3/envs/qcodes/lib/site-packages/matplotlib/backends/backend_agg.py?line=541'>542</a>\u001b[0m         filename_or_obj, \u001b[39mself\u001b[39m\u001b[39m.\u001b[39mbuffer_rgba(), \u001b[39mformat\u001b[39m\u001b[39m=\u001b[39m\u001b[39m\"\u001b[39m\u001b[39mpng\u001b[39m\u001b[39m\"\u001b[39m, origin\u001b[39m=\u001b[39m\u001b[39m\"\u001b[39m\u001b[39mupper\u001b[39m\u001b[39m\"\u001b[39m,\n\u001b[0;32m    <a href='file:///c%3A/Users/T7-2/Anaconda3/envs/qcodes/lib/site-packages/matplotlib/backends/backend_agg.py?line=542'>543</a>\u001b[0m         dpi\u001b[39m=\u001b[39m\u001b[39mself\u001b[39m\u001b[39m.\u001b[39mfigure\u001b[39m.\u001b[39mdpi, metadata\u001b[39m=\u001b[39mmetadata, pil_kwargs\u001b[39m=\u001b[39mpil_kwargs)\n",
      "File \u001b[1;32m~\\Anaconda3\\envs\\qcodes\\lib\\site-packages\\matplotlib\\backends\\backend_agg.py:436\u001b[0m, in \u001b[0;36mFigureCanvasAgg.draw\u001b[1;34m(self)\u001b[0m\n\u001b[0;32m    <a href='file:///c%3A/Users/T7-2/Anaconda3/envs/qcodes/lib/site-packages/matplotlib/backends/backend_agg.py?line=431'>432</a>\u001b[0m \u001b[39m# Acquire a lock on the shared font cache.\u001b[39;00m\n\u001b[0;32m    <a href='file:///c%3A/Users/T7-2/Anaconda3/envs/qcodes/lib/site-packages/matplotlib/backends/backend_agg.py?line=432'>433</a>\u001b[0m \u001b[39mwith\u001b[39;00m RendererAgg\u001b[39m.\u001b[39mlock, \\\n\u001b[0;32m    <a href='file:///c%3A/Users/T7-2/Anaconda3/envs/qcodes/lib/site-packages/matplotlib/backends/backend_agg.py?line=433'>434</a>\u001b[0m      (\u001b[39mself\u001b[39m\u001b[39m.\u001b[39mtoolbar\u001b[39m.\u001b[39m_wait_cursor_for_draw_cm() \u001b[39mif\u001b[39;00m \u001b[39mself\u001b[39m\u001b[39m.\u001b[39mtoolbar\n\u001b[0;32m    <a href='file:///c%3A/Users/T7-2/Anaconda3/envs/qcodes/lib/site-packages/matplotlib/backends/backend_agg.py?line=434'>435</a>\u001b[0m       \u001b[39melse\u001b[39;00m nullcontext()):\n\u001b[1;32m--> <a href='file:///c%3A/Users/T7-2/Anaconda3/envs/qcodes/lib/site-packages/matplotlib/backends/backend_agg.py?line=435'>436</a>\u001b[0m     \u001b[39mself\u001b[39;49m\u001b[39m.\u001b[39;49mfigure\u001b[39m.\u001b[39;49mdraw(\u001b[39mself\u001b[39;49m\u001b[39m.\u001b[39;49mrenderer)\n\u001b[0;32m    <a href='file:///c%3A/Users/T7-2/Anaconda3/envs/qcodes/lib/site-packages/matplotlib/backends/backend_agg.py?line=436'>437</a>\u001b[0m     \u001b[39m# A GUI class may be need to update a window using this draw, so\u001b[39;00m\n\u001b[0;32m    <a href='file:///c%3A/Users/T7-2/Anaconda3/envs/qcodes/lib/site-packages/matplotlib/backends/backend_agg.py?line=437'>438</a>\u001b[0m     \u001b[39m# don't forget to call the superclass.\u001b[39;00m\n\u001b[0;32m    <a href='file:///c%3A/Users/T7-2/Anaconda3/envs/qcodes/lib/site-packages/matplotlib/backends/backend_agg.py?line=438'>439</a>\u001b[0m     \u001b[39msuper\u001b[39m()\u001b[39m.\u001b[39mdraw()\n",
      "File \u001b[1;32m~\\Anaconda3\\envs\\qcodes\\lib\\site-packages\\matplotlib\\artist.py:73\u001b[0m, in \u001b[0;36m_finalize_rasterization.<locals>.draw_wrapper\u001b[1;34m(artist, renderer, *args, **kwargs)\u001b[0m\n\u001b[0;32m     <a href='file:///c%3A/Users/T7-2/Anaconda3/envs/qcodes/lib/site-packages/matplotlib/artist.py?line=70'>71</a>\u001b[0m \u001b[39m@wraps\u001b[39m(draw)\n\u001b[0;32m     <a href='file:///c%3A/Users/T7-2/Anaconda3/envs/qcodes/lib/site-packages/matplotlib/artist.py?line=71'>72</a>\u001b[0m \u001b[39mdef\u001b[39;00m \u001b[39mdraw_wrapper\u001b[39m(artist, renderer, \u001b[39m*\u001b[39margs, \u001b[39m*\u001b[39m\u001b[39m*\u001b[39mkwargs):\n\u001b[1;32m---> <a href='file:///c%3A/Users/T7-2/Anaconda3/envs/qcodes/lib/site-packages/matplotlib/artist.py?line=72'>73</a>\u001b[0m     result \u001b[39m=\u001b[39m draw(artist, renderer, \u001b[39m*\u001b[39margs, \u001b[39m*\u001b[39m\u001b[39m*\u001b[39mkwargs)\n\u001b[0;32m     <a href='file:///c%3A/Users/T7-2/Anaconda3/envs/qcodes/lib/site-packages/matplotlib/artist.py?line=73'>74</a>\u001b[0m     \u001b[39mif\u001b[39;00m renderer\u001b[39m.\u001b[39m_rasterizing:\n\u001b[0;32m     <a href='file:///c%3A/Users/T7-2/Anaconda3/envs/qcodes/lib/site-packages/matplotlib/artist.py?line=74'>75</a>\u001b[0m         renderer\u001b[39m.\u001b[39mstop_rasterizing()\n",
      "File \u001b[1;32m~\\Anaconda3\\envs\\qcodes\\lib\\site-packages\\matplotlib\\artist.py:50\u001b[0m, in \u001b[0;36mallow_rasterization.<locals>.draw_wrapper\u001b[1;34m(artist, renderer)\u001b[0m\n\u001b[0;32m     <a href='file:///c%3A/Users/T7-2/Anaconda3/envs/qcodes/lib/site-packages/matplotlib/artist.py?line=46'>47</a>\u001b[0m     \u001b[39mif\u001b[39;00m artist\u001b[39m.\u001b[39mget_agg_filter() \u001b[39mis\u001b[39;00m \u001b[39mnot\u001b[39;00m \u001b[39mNone\u001b[39;00m:\n\u001b[0;32m     <a href='file:///c%3A/Users/T7-2/Anaconda3/envs/qcodes/lib/site-packages/matplotlib/artist.py?line=47'>48</a>\u001b[0m         renderer\u001b[39m.\u001b[39mstart_filter()\n\u001b[1;32m---> <a href='file:///c%3A/Users/T7-2/Anaconda3/envs/qcodes/lib/site-packages/matplotlib/artist.py?line=49'>50</a>\u001b[0m     \u001b[39mreturn\u001b[39;00m draw(artist, renderer)\n\u001b[0;32m     <a href='file:///c%3A/Users/T7-2/Anaconda3/envs/qcodes/lib/site-packages/matplotlib/artist.py?line=50'>51</a>\u001b[0m \u001b[39mfinally\u001b[39;00m:\n\u001b[0;32m     <a href='file:///c%3A/Users/T7-2/Anaconda3/envs/qcodes/lib/site-packages/matplotlib/artist.py?line=51'>52</a>\u001b[0m     \u001b[39mif\u001b[39;00m artist\u001b[39m.\u001b[39mget_agg_filter() \u001b[39mis\u001b[39;00m \u001b[39mnot\u001b[39;00m \u001b[39mNone\u001b[39;00m:\n",
      "File \u001b[1;32m~\\Anaconda3\\envs\\qcodes\\lib\\site-packages\\matplotlib\\figure.py:2810\u001b[0m, in \u001b[0;36mFigure.draw\u001b[1;34m(self, renderer)\u001b[0m\n\u001b[0;32m   <a href='file:///c%3A/Users/T7-2/Anaconda3/envs/qcodes/lib/site-packages/matplotlib/figure.py?line=2806'>2807</a>\u001b[0m         \u001b[39m# ValueError can occur when resizing a window.\u001b[39;00m\n\u001b[0;32m   <a href='file:///c%3A/Users/T7-2/Anaconda3/envs/qcodes/lib/site-packages/matplotlib/figure.py?line=2808'>2809</a>\u001b[0m \u001b[39mself\u001b[39m\u001b[39m.\u001b[39mpatch\u001b[39m.\u001b[39mdraw(renderer)\n\u001b[1;32m-> <a href='file:///c%3A/Users/T7-2/Anaconda3/envs/qcodes/lib/site-packages/matplotlib/figure.py?line=2809'>2810</a>\u001b[0m mimage\u001b[39m.\u001b[39;49m_draw_list_compositing_images(\n\u001b[0;32m   <a href='file:///c%3A/Users/T7-2/Anaconda3/envs/qcodes/lib/site-packages/matplotlib/figure.py?line=2810'>2811</a>\u001b[0m     renderer, \u001b[39mself\u001b[39;49m, artists, \u001b[39mself\u001b[39;49m\u001b[39m.\u001b[39;49msuppressComposite)\n\u001b[0;32m   <a href='file:///c%3A/Users/T7-2/Anaconda3/envs/qcodes/lib/site-packages/matplotlib/figure.py?line=2812'>2813</a>\u001b[0m \u001b[39mfor\u001b[39;00m sfig \u001b[39min\u001b[39;00m \u001b[39mself\u001b[39m\u001b[39m.\u001b[39msubfigs:\n\u001b[0;32m   <a href='file:///c%3A/Users/T7-2/Anaconda3/envs/qcodes/lib/site-packages/matplotlib/figure.py?line=2813'>2814</a>\u001b[0m     sfig\u001b[39m.\u001b[39mdraw(renderer)\n",
      "File \u001b[1;32m~\\Anaconda3\\envs\\qcodes\\lib\\site-packages\\matplotlib\\image.py:132\u001b[0m, in \u001b[0;36m_draw_list_compositing_images\u001b[1;34m(renderer, parent, artists, suppress_composite)\u001b[0m\n\u001b[0;32m    <a href='file:///c%3A/Users/T7-2/Anaconda3/envs/qcodes/lib/site-packages/matplotlib/image.py?line=129'>130</a>\u001b[0m \u001b[39mif\u001b[39;00m not_composite \u001b[39mor\u001b[39;00m \u001b[39mnot\u001b[39;00m has_images:\n\u001b[0;32m    <a href='file:///c%3A/Users/T7-2/Anaconda3/envs/qcodes/lib/site-packages/matplotlib/image.py?line=130'>131</a>\u001b[0m     \u001b[39mfor\u001b[39;00m a \u001b[39min\u001b[39;00m artists:\n\u001b[1;32m--> <a href='file:///c%3A/Users/T7-2/Anaconda3/envs/qcodes/lib/site-packages/matplotlib/image.py?line=131'>132</a>\u001b[0m         a\u001b[39m.\u001b[39;49mdraw(renderer)\n\u001b[0;32m    <a href='file:///c%3A/Users/T7-2/Anaconda3/envs/qcodes/lib/site-packages/matplotlib/image.py?line=132'>133</a>\u001b[0m \u001b[39melse\u001b[39;00m:\n\u001b[0;32m    <a href='file:///c%3A/Users/T7-2/Anaconda3/envs/qcodes/lib/site-packages/matplotlib/image.py?line=133'>134</a>\u001b[0m     \u001b[39m# Composite any adjacent images together\u001b[39;00m\n\u001b[0;32m    <a href='file:///c%3A/Users/T7-2/Anaconda3/envs/qcodes/lib/site-packages/matplotlib/image.py?line=134'>135</a>\u001b[0m     image_group \u001b[39m=\u001b[39m []\n",
      "File \u001b[1;32m~\\Anaconda3\\envs\\qcodes\\lib\\site-packages\\matplotlib\\artist.py:50\u001b[0m, in \u001b[0;36mallow_rasterization.<locals>.draw_wrapper\u001b[1;34m(artist, renderer)\u001b[0m\n\u001b[0;32m     <a href='file:///c%3A/Users/T7-2/Anaconda3/envs/qcodes/lib/site-packages/matplotlib/artist.py?line=46'>47</a>\u001b[0m     \u001b[39mif\u001b[39;00m artist\u001b[39m.\u001b[39mget_agg_filter() \u001b[39mis\u001b[39;00m \u001b[39mnot\u001b[39;00m \u001b[39mNone\u001b[39;00m:\n\u001b[0;32m     <a href='file:///c%3A/Users/T7-2/Anaconda3/envs/qcodes/lib/site-packages/matplotlib/artist.py?line=47'>48</a>\u001b[0m         renderer\u001b[39m.\u001b[39mstart_filter()\n\u001b[1;32m---> <a href='file:///c%3A/Users/T7-2/Anaconda3/envs/qcodes/lib/site-packages/matplotlib/artist.py?line=49'>50</a>\u001b[0m     \u001b[39mreturn\u001b[39;00m draw(artist, renderer)\n\u001b[0;32m     <a href='file:///c%3A/Users/T7-2/Anaconda3/envs/qcodes/lib/site-packages/matplotlib/artist.py?line=50'>51</a>\u001b[0m \u001b[39mfinally\u001b[39;00m:\n\u001b[0;32m     <a href='file:///c%3A/Users/T7-2/Anaconda3/envs/qcodes/lib/site-packages/matplotlib/artist.py?line=51'>52</a>\u001b[0m     \u001b[39mif\u001b[39;00m artist\u001b[39m.\u001b[39mget_agg_filter() \u001b[39mis\u001b[39;00m \u001b[39mnot\u001b[39;00m \u001b[39mNone\u001b[39;00m:\n",
      "File \u001b[1;32m~\\Anaconda3\\envs\\qcodes\\lib\\site-packages\\matplotlib\\axes\\_base.py:3082\u001b[0m, in \u001b[0;36m_AxesBase.draw\u001b[1;34m(self, renderer)\u001b[0m\n\u001b[0;32m   <a href='file:///c%3A/Users/T7-2/Anaconda3/envs/qcodes/lib/site-packages/matplotlib/axes/_base.py?line=3078'>3079</a>\u001b[0m         a\u001b[39m.\u001b[39mdraw(renderer)\n\u001b[0;32m   <a href='file:///c%3A/Users/T7-2/Anaconda3/envs/qcodes/lib/site-packages/matplotlib/axes/_base.py?line=3079'>3080</a>\u001b[0m     renderer\u001b[39m.\u001b[39mstop_rasterizing()\n\u001b[1;32m-> <a href='file:///c%3A/Users/T7-2/Anaconda3/envs/qcodes/lib/site-packages/matplotlib/axes/_base.py?line=3081'>3082</a>\u001b[0m mimage\u001b[39m.\u001b[39;49m_draw_list_compositing_images(\n\u001b[0;32m   <a href='file:///c%3A/Users/T7-2/Anaconda3/envs/qcodes/lib/site-packages/matplotlib/axes/_base.py?line=3082'>3083</a>\u001b[0m     renderer, \u001b[39mself\u001b[39;49m, artists, \u001b[39mself\u001b[39;49m\u001b[39m.\u001b[39;49mfigure\u001b[39m.\u001b[39;49msuppressComposite)\n\u001b[0;32m   <a href='file:///c%3A/Users/T7-2/Anaconda3/envs/qcodes/lib/site-packages/matplotlib/axes/_base.py?line=3084'>3085</a>\u001b[0m renderer\u001b[39m.\u001b[39mclose_group(\u001b[39m'\u001b[39m\u001b[39maxes\u001b[39m\u001b[39m'\u001b[39m)\n\u001b[0;32m   <a href='file:///c%3A/Users/T7-2/Anaconda3/envs/qcodes/lib/site-packages/matplotlib/axes/_base.py?line=3085'>3086</a>\u001b[0m \u001b[39mself\u001b[39m\u001b[39m.\u001b[39mstale \u001b[39m=\u001b[39m \u001b[39mFalse\u001b[39;00m\n",
      "File \u001b[1;32m~\\Anaconda3\\envs\\qcodes\\lib\\site-packages\\matplotlib\\image.py:132\u001b[0m, in \u001b[0;36m_draw_list_compositing_images\u001b[1;34m(renderer, parent, artists, suppress_composite)\u001b[0m\n\u001b[0;32m    <a href='file:///c%3A/Users/T7-2/Anaconda3/envs/qcodes/lib/site-packages/matplotlib/image.py?line=129'>130</a>\u001b[0m \u001b[39mif\u001b[39;00m not_composite \u001b[39mor\u001b[39;00m \u001b[39mnot\u001b[39;00m has_images:\n\u001b[0;32m    <a href='file:///c%3A/Users/T7-2/Anaconda3/envs/qcodes/lib/site-packages/matplotlib/image.py?line=130'>131</a>\u001b[0m     \u001b[39mfor\u001b[39;00m a \u001b[39min\u001b[39;00m artists:\n\u001b[1;32m--> <a href='file:///c%3A/Users/T7-2/Anaconda3/envs/qcodes/lib/site-packages/matplotlib/image.py?line=131'>132</a>\u001b[0m         a\u001b[39m.\u001b[39;49mdraw(renderer)\n\u001b[0;32m    <a href='file:///c%3A/Users/T7-2/Anaconda3/envs/qcodes/lib/site-packages/matplotlib/image.py?line=132'>133</a>\u001b[0m \u001b[39melse\u001b[39;00m:\n\u001b[0;32m    <a href='file:///c%3A/Users/T7-2/Anaconda3/envs/qcodes/lib/site-packages/matplotlib/image.py?line=133'>134</a>\u001b[0m     \u001b[39m# Composite any adjacent images together\u001b[39;00m\n\u001b[0;32m    <a href='file:///c%3A/Users/T7-2/Anaconda3/envs/qcodes/lib/site-packages/matplotlib/image.py?line=134'>135</a>\u001b[0m     image_group \u001b[39m=\u001b[39m []\n",
      "File \u001b[1;32m~\\Anaconda3\\envs\\qcodes\\lib\\site-packages\\matplotlib\\artist.py:50\u001b[0m, in \u001b[0;36mallow_rasterization.<locals>.draw_wrapper\u001b[1;34m(artist, renderer)\u001b[0m\n\u001b[0;32m     <a href='file:///c%3A/Users/T7-2/Anaconda3/envs/qcodes/lib/site-packages/matplotlib/artist.py?line=46'>47</a>\u001b[0m     \u001b[39mif\u001b[39;00m artist\u001b[39m.\u001b[39mget_agg_filter() \u001b[39mis\u001b[39;00m \u001b[39mnot\u001b[39;00m \u001b[39mNone\u001b[39;00m:\n\u001b[0;32m     <a href='file:///c%3A/Users/T7-2/Anaconda3/envs/qcodes/lib/site-packages/matplotlib/artist.py?line=47'>48</a>\u001b[0m         renderer\u001b[39m.\u001b[39mstart_filter()\n\u001b[1;32m---> <a href='file:///c%3A/Users/T7-2/Anaconda3/envs/qcodes/lib/site-packages/matplotlib/artist.py?line=49'>50</a>\u001b[0m     \u001b[39mreturn\u001b[39;00m draw(artist, renderer)\n\u001b[0;32m     <a href='file:///c%3A/Users/T7-2/Anaconda3/envs/qcodes/lib/site-packages/matplotlib/artist.py?line=50'>51</a>\u001b[0m \u001b[39mfinally\u001b[39;00m:\n\u001b[0;32m     <a href='file:///c%3A/Users/T7-2/Anaconda3/envs/qcodes/lib/site-packages/matplotlib/artist.py?line=51'>52</a>\u001b[0m     \u001b[39mif\u001b[39;00m artist\u001b[39m.\u001b[39mget_agg_filter() \u001b[39mis\u001b[39;00m \u001b[39mnot\u001b[39;00m \u001b[39mNone\u001b[39;00m:\n",
      "File \u001b[1;32m~\\Anaconda3\\envs\\qcodes\\lib\\site-packages\\matplotlib\\lines.py:776\u001b[0m, in \u001b[0;36mLine2D.draw\u001b[1;34m(self, renderer)\u001b[0m\n\u001b[0;32m    <a href='file:///c%3A/Users/T7-2/Anaconda3/envs/qcodes/lib/site-packages/matplotlib/lines.py?line=772'>773</a>\u001b[0m             gc\u001b[39m.\u001b[39mset_sketch_params(\u001b[39m*\u001b[39m\u001b[39mself\u001b[39m\u001b[39m.\u001b[39mget_sketch_params())\n\u001b[0;32m    <a href='file:///c%3A/Users/T7-2/Anaconda3/envs/qcodes/lib/site-packages/matplotlib/lines.py?line=774'>775</a>\u001b[0m         gc\u001b[39m.\u001b[39mset_dashes(\u001b[39mself\u001b[39m\u001b[39m.\u001b[39m_dashOffset, \u001b[39mself\u001b[39m\u001b[39m.\u001b[39m_dashSeq)\n\u001b[1;32m--> <a href='file:///c%3A/Users/T7-2/Anaconda3/envs/qcodes/lib/site-packages/matplotlib/lines.py?line=775'>776</a>\u001b[0m         renderer\u001b[39m.\u001b[39;49mdraw_path(gc, tpath, affine\u001b[39m.\u001b[39;49mfrozen())\n\u001b[0;32m    <a href='file:///c%3A/Users/T7-2/Anaconda3/envs/qcodes/lib/site-packages/matplotlib/lines.py?line=776'>777</a>\u001b[0m         gc\u001b[39m.\u001b[39mrestore()\n\u001b[0;32m    <a href='file:///c%3A/Users/T7-2/Anaconda3/envs/qcodes/lib/site-packages/matplotlib/lines.py?line=778'>779</a>\u001b[0m \u001b[39mif\u001b[39;00m \u001b[39mself\u001b[39m\u001b[39m.\u001b[39m_marker \u001b[39mand\u001b[39;00m \u001b[39mself\u001b[39m\u001b[39m.\u001b[39m_markersize \u001b[39m>\u001b[39m \u001b[39m0\u001b[39m:\n",
      "\u001b[1;31mKeyboardInterrupt\u001b[0m: "
     ]
    }
   ],
   "source": [
    "from config import config\n",
    "from qm.qua import program,for_,stream_processing,declare,declare_stream,wait,measure,play,save,fixed,demod,amp,ramp, align\n",
    "from qm.QuantumMachinesManager import QuantumMachinesManager\n",
    "from qm import SimulationConfig\n",
    "import time as time\n",
    "import matplotlib.pyplot as plt\n",
    "import matplotlib.animation as ani\n",
    "import numpy as np\n",
    "\n",
    "\n",
    "qmm = QuantumMachinesManager(host='192.168.15.128',port=80)\n",
    "qmm.close_all_quantum_machines()\n",
    "qm = qmm.open_qm(config)\n",
    "\n",
    "\n",
    "\n",
    "\n",
    "with program() as sprog:\n",
    "    var=declare(fixed,value=np.linspace(-0.1,0.3,5))\n",
    "    ind=declare(int)\n",
    "    I=declare(fixed)\n",
    "    Q=declare(fixed)\n",
    "    with for_(ind,0,ind<5,ind+1):\n",
    "        # align('Q1_readout','Q1_L')\n",
    "        \n",
    "        play('CW'*amp(0.1), 'Q1_L', duration=100//4)\n",
    "        measure('readout_pulse_0_05', 'Q2_readout', None, demod.full('cos', I , 'out1'), demod.full('sin', Q , 'out1'))\n",
    "        # play('CW'*amp(-var[ind]), 'Q1_L', duration=100//4)\n",
    "    \n",
    "\n",
    "\n",
    "job = qm.simulate(sprog, SimulationConfig(int(3000//4)))\n",
    "samples = job.get_simulated_samples()\n",
    "samples.con1.plot()\n"
   ]
  },
  {
   "cell_type": "markdown",
   "metadata": {},
   "source": [
    "# just testing the pulser part"
   ]
  },
  {
   "cell_type": "code",
   "execution_count": 1,
   "metadata": {},
   "outputs": [
    {
     "name": "stdout",
     "output_type": "stream",
     "text": [
      "2022-04-22 17:14:36,194 - qm - INFO - Performing health check\n",
      "2022-04-22 17:14:36,197 - qm - INFO - Health check passed\n",
      "quantum machine opened with channels ['Q1_R', 'Q1_L', 'Q1_readout', 'Q2_readout']\n",
      "default value for CW is: 0.1\n",
      "2022-04-22 17:14:36,273 - qm - INFO - Flags: \n",
      "2022-04-22 17:14:36,274 - qm - INFO - Sending program to QOP\n",
      "2022-04-22 17:14:36,388 - qm - INFO - Executing program\n"
     ]
    }
   ],
   "source": [
    "def hold_action(channel,time,looped=False):\n",
    "    return {'action':'hold' , 'channel':channel , 'action_variables':{'time':time},'looped':looped}\n",
    "\n",
    "def step_action(channel,value,time,looped=False,looped_variable='step_value',loop_index=0):\n",
    "    return {'action':'step' , 'channel':channel , 'action_variables':{'time':time,'step_value':value},'looped':looped,'looper':looped_variable,'loop_index':loop_index}\n",
    "\n",
    "def ramp_action(channel,rate,time,looped=False):\n",
    "    return {'action':'ramp' , 'channel':channel , 'action_variables':{'time':time,'rate':rate},'looped':looped}\n",
    "\n",
    "def meas_action(channel,type='full',pulse='readout_pulse_0_05',looped=False,buffer_size=16):\n",
    "    return {'action':'meas' , 'channel':channel , 'action_variables':{'type':type , 'pulse':pulse,'buffer_size':buffer_size},'looped':looped}\n",
    "\n",
    "\n",
    "from qmachine.pulse_generator.config import config\n",
    "from qmachine.pulse_generator.pulse_generator import Pulser\n",
    "import numpy as np\n",
    "pulse_maker=Pulser(config)\n",
    "\n",
    "actions_m1={'steps':{\n",
    "                '1':\n",
    "                    {'ch1':step_action(channel='ch1',value=np.linspace(0.1,0.3,4),time=1000//4,looped=True,looped_variable='step_value',loop_index='0'),\n",
    "                    'ch2':step_action('ch2',np.linspace(-0.1,-0.3,4),1000//4,True,'step_value',loop_index='1'),\n",
    "                    'm1':meas_action('m1',buffer_size=[4,4])},\n",
    "                '2':\n",
    "                    {'ch1':step_action('ch1',np.linspace(-0.1,-0.3,4),1000//4,True,'step_value',loop_index='0'),\n",
    "                    'ch2':step_action('ch2',np.linspace(0.1,0.3,4),1000//4,True,'step_value',loop_index='1')}},\n",
    "        'looped':[4,4],\n",
    "        'channels':['ch1','ch2','m1']}\n",
    "\n",
    "\n",
    "actions_m2={'steps':{\n",
    "                '1':\n",
    "                    {'ch1':step_action('ch1',np.linspace(0.1,0.3,4),1000//4,True,'step_value',loop_index='0'),\n",
    "                    'ch2':step_action('ch2',np.linspace(-0.1,-0.3,4),1000//4,True,'step_value',loop_index='1')},\n",
    "                '2':\n",
    "                    {'ch1':step_action('ch1',np.linspace(-0.1,-0.3,4),1000//4,True,'step_value',loop_index='0'),\n",
    "                    'ch2':step_action('ch2',np.linspace(0.1,0.3,4),1000//4,True,'step_value',loop_index='1'),\n",
    "                    'm1':meas_action('m1',buffer_size=[4,4])}},\n",
    "        'looped':[4,4],\n",
    "        'channels':['ch1','ch2','m1']}\n",
    "\n",
    "# actions={'steps':{\n",
    "#                 '1':\n",
    "#                     {'ch1':step_action('ch1',0.1,1000//4,False,'step_value',loop_index='0')},\n",
    "#                 '2':\n",
    "#                     {'ch1':step_action('ch1',-0.1,1000//4,False,'step_value',loop_index='0')}},\n",
    "#         'channels':['ch1']}\n",
    "\n",
    "\n",
    "# import pprint\n",
    "# pprint.pprint(actions)\n",
    "\n",
    "seq,mod_actions=pulse_maker.build_seq(actions_m2)\n",
    "\n",
    "# job=pulse_maker.simulate_pulse(seq,32000//4+300//4)\n",
    "pulse_maker.open_qm(pulse_maker.config)\n",
    "job=pulse_maker.qm.execute(seq)"
   ]
  },
  {
   "cell_type": "code",
   "execution_count": 2,
   "metadata": {},
   "outputs": [
    {
     "name": "stdout",
     "output_type": "stream",
     "text": [
      "{'action': 'meas',\n",
      " 'action_variables': {'I_name': 'I_1',\n",
      "                      'Q_name': 'Q_1',\n",
      "                      'buffer_size': 16,\n",
      "                      'pulse': 'readout_pulse_0_05',\n",
      "                      'save_I': <qm.qua._dsl._Expression object at 0x0000018531559930>,\n",
      "                      'save_I_stream': <qm.qua._dsl._ResultSource object at 0x0000018531559DB0>,\n",
      "                      'save_Q': <qm.qua._dsl._Expression object at 0x0000018531559CC0>,\n",
      "                      'save_Q_stream': <qm.qua._dsl._ResultSource object at 0x0000018531559E70>,\n",
      "                      'type': 'full'},\n",
      " 'channel': 'm1',\n",
      " 'looped': False}\n"
     ]
    }
   ],
   "source": [
    "import pprint\n",
    "pprint.pprint(mod_actions['steps']['2']['m1'])"
   ]
  },
  {
   "cell_type": "code",
   "execution_count": 2,
   "metadata": {},
   "outputs": [],
   "source": [
    "all_results= {key : item.fetch_all() for key,item in job.result_handles._all_results.items()}"
   ]
  },
  {
   "cell_type": "code",
   "execution_count": 3,
   "metadata": {},
   "outputs": [
    {
     "data": {
      "text/plain": [
       "{'I_1': array([-5.04739583e-05, -5.22769988e-05, -3.22274864e-05, -6.21303916e-05,\n",
       "        -2.14204192e-05,  1.92224979e-05,  2.99401581e-05, -6.83218241e-06,\n",
       "         1.23083591e-05,  8.04662704e-07,  2.08579004e-05,  2.51829624e-05,\n",
       "         5.02914190e-05, -2.60174274e-05, -2.62148678e-05,  3.11844051e-05]),\n",
       " 'Q_1': array([ 3.20747495e-05,  3.58261168e-05,  7.55116343e-05, -2.22027302e-06,\n",
       "        -2.25640833e-05,  4.00096178e-06, -7.14138150e-05, -1.71884894e-05,\n",
       "        -4.48897481e-05, -1.02445483e-06,  3.63327563e-05,  2.24262476e-06,\n",
       "         4.25390899e-05, -2.29775906e-05,  2.64495611e-07, -6.66230917e-05])}"
      ]
     },
     "execution_count": 3,
     "metadata": {},
     "output_type": "execute_result"
    }
   ],
   "source": [
    "all_results"
   ]
  },
  {
   "cell_type": "code",
   "execution_count": 4,
   "metadata": {},
   "outputs": [],
   "source": [
    "t=job.result_handles._all_results"
   ]
  },
  {
   "cell_type": "code",
   "execution_count": 6,
   "metadata": {},
   "outputs": [
    {
     "data": {
      "text/plain": [
       "array([ 3.88547778e-06, -1.62497163e-05,  4.12203372e-05, -9.62987542e-06,\n",
       "        2.65985727e-06,  9.04127955e-06, -1.67600811e-05, -4.88013029e-07,\n",
       "        7.64429569e-06,  1.03887171e-04, -1.86823308e-05, -1.85184181e-05,\n",
       "       -1.63838267e-05, -1.90995634e-05,  6.74873590e-05, -2.26870179e-05])"
      ]
     },
     "execution_count": 6,
     "metadata": {},
     "output_type": "execute_result"
    }
   ],
   "source": [
    "t['I_1'].fetch_all() "
   ]
  },
  {
   "cell_type": "code",
   "execution_count": null,
   "metadata": {},
   "outputs": [],
   "source": []
  }
 ],
 "metadata": {
  "interpreter": {
   "hash": "4eae3ed281160ac02d16648a444efc80b0ba0f44f38eff452e6d1c183e330a73"
  },
  "kernelspec": {
   "display_name": "Python 3.7.9 ('qcodes')",
   "language": "python",
   "name": "python3"
  },
  "language_info": {
   "codemirror_mode": {
    "name": "ipython",
    "version": 3
   },
   "file_extension": ".py",
   "mimetype": "text/x-python",
   "name": "python",
   "nbconvert_exporter": "python",
   "pygments_lexer": "ipython3",
   "version": "3.10.2"
  },
  "orig_nbformat": 4
 },
 "nbformat": 4,
 "nbformat_minor": 2
}
