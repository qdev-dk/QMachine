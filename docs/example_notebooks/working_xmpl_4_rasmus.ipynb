{
 "cells": [
  {
   "cell_type": "markdown",
   "metadata": {},
   "source": [
    "Loading qcodes stuff"
   ]
  },
  {
   "cell_type": "markdown",
   "metadata": {},
   "source": [
    "QUA documentation\n",
    "\n",
    "https://qm-docs.qualang.io/guides/features.html"
   ]
  },
  {
   "cell_type": "code",
   "execution_count": null,
   "metadata": {},
   "outputs": [],
   "source": []
  },
  {
   "cell_type": "code",
   "execution_count": 1,
   "metadata": {},
   "outputs": [
    {
     "name": "stdout",
     "output_type": "stream",
     "text": [
      "Logging hadn't been started.\n",
      "Activating auto-logging. Current session state plus future input saved.\n",
      "Filename       : C:\\Users\\T7-2\\.qcodes\\logs\\command_history.log\n",
      "Mode           : append\n",
      "Output logging : True\n",
      "Raw input log  : False\n",
      "Timestamping   : True\n",
      "State          : active\n",
      "Qcodes Logfile : C:\\Users\\T7-2\\.qcodes\\logs\\220316-15048-qcodes.log\n"
     ]
    }
   ],
   "source": [
    "# -*- coding: utf-8 -*-\n",
    "\"\"\"\n",
    "Created on March 3. 2022\n",
    "\n",
    "@author: TR, RK, ER\n",
    "\"\"\"\n",
    "import matplotlib.pyplot as plt\n",
    "import numpy as np\n",
    "\n",
    "import tempfile\n",
    "import os\n",
    "from time import sleep, monotonic\n",
    "\n",
    "import qcodes as qc\n",
    "from qcodes import Station, load_or_create_experiment, initialise_database, Measurement, load_by_run_spec, load_by_id\n",
    "from qcodes.dataset.plotting import plot_dataset, plot_by_id\n",
    "from qcodes.utils.dataset.doNd import do0d,do1d, do2d\n",
    "qc.config.dataset.dond_plot = True\n",
    "\n",
    "lib_dir = tempfile.gettempdir()\n",
    "database_name = 'test' #database name file. Look at cell below for its location+\n",
    "\n",
    "dir_database = tempfile.gettempdir()\n",
    "database_format = '.db'\n",
    "database_path = os.path.join(dir_database, database_name + database_format)\n",
    "\n",
    "qc.config.user.mainfolder = os.path.join(dir_database, database_name) #saves plots in png and pdf in the database folder\n",
    "qc.logger.start_all_logging()\n",
    "station = qc.Station()\n",
    "\n",
    "qc.initialise_or_create_database_at(database_path) \n",
    "exp = load_or_create_experiment(\n",
    "    experiment_name= 'Test',\n",
    "    sample_name=\"test\"\n",
    ")"
   ]
  },
  {
   "cell_type": "code",
   "execution_count": 2,
   "metadata": {},
   "outputs": [
    {
     "name": "stdout",
     "output_type": "stream",
     "text": [
      "2022-03-16 16:34:04,403 - qm - INFO - Performing health check\n",
      "2022-03-16 16:34:04,407 - qm - INFO - Health check passed\n"
     ]
    }
   ],
   "source": [
    "from qmachine.qmachine import QMachine\n",
    "myqm = QMachine(name='Bla', host='192.168.15.128', port=80)"
   ]
  },
  {
   "cell_type": "code",
   "execution_count": 14,
   "metadata": {},
   "outputs": [
    {
     "name": "stdout",
     "output_type": "stream",
     "text": [
      "2022-03-17 10:22:45,621 - qm - INFO - Flags: \n",
      "2022-03-17 10:22:45,626 - qm - INFO - Sending program to QOP\n",
      "2022-03-17 10:22:45,943 - qm - INFO - Executing program\n"
     ]
    },
    {
     "data": {
      "text/plain": [
       "array([0.03644371])"
      ]
     },
     "execution_count": 14,
     "metadata": {},
     "output_type": "execute_result"
    }
   ],
   "source": [
    "myqm.run_dumbpulse()\n",
    "myqm.get_pulse()"
   ]
  },
  {
   "cell_type": "code",
   "execution_count": 15,
   "metadata": {},
   "outputs": [
    {
     "data": {
      "text/plain": [
       "False"
      ]
     },
     "execution_count": 15,
     "metadata": {},
     "output_type": "execute_result"
    }
   ],
   "source": [
    "myqm.job.is_paused()"
   ]
  },
  {
   "cell_type": "code",
   "execution_count": 16,
   "metadata": {},
   "outputs": [
    {
     "ename": "_InactiveRpcError",
     "evalue": "<_InactiveRpcError of RPC that terminated with:\n\tstatus = StatusCode.UNKNOWN\n\tdetails = \"\"\n\tdebug_error_string = \"{\"created\":\"@1647508975.175000000\",\"description\":\"Error received from peer ipv4:192.168.15.128:80\",\"file\":\"src/core/lib/surface/call.cc\",\"file_line\":904,\"grpc_message\":\"\",\"grpc_status\":2}\"\n>",
     "output_type": "error",
     "traceback": [
      "\u001b[1;31m---------------------------------------------------------------------------\u001b[0m",
      "\u001b[1;31m_InactiveRpcError\u001b[0m                         Traceback (most recent call last)",
      "Input \u001b[1;32mIn [16]\u001b[0m, in \u001b[0;36m<cell line: 1>\u001b[1;34m()\u001b[0m\n\u001b[1;32m----> 1\u001b[0m \u001b[43mmyqm\u001b[49m\u001b[38;5;241;43m.\u001b[39;49m\u001b[43mget_pulse\u001b[49m\u001b[43m(\u001b[49m\u001b[43m)\u001b[49m\n",
      "File \u001b[1;32mc:\\users\\t7-2\\qmachine\\qmachine\\qmachine.py:117\u001b[0m, in \u001b[0;36mQMachine.get_pulse\u001b[1;34m(self)\u001b[0m\n\u001b[0;32m    115\u001b[0m \u001b[38;5;28;01mdef\u001b[39;00m \u001b[38;5;21mget_pulse\u001b[39m(\u001b[38;5;28mself\u001b[39m):\n\u001b[0;32m    116\u001b[0m     \u001b[38;5;66;03m#self.job = self.qm.execute(self.dumbpulse)\u001b[39;00m\n\u001b[1;32m--> 117\u001b[0m     \u001b[38;5;28;43mself\u001b[39;49m\u001b[38;5;241;43m.\u001b[39;49m\u001b[43mjob\u001b[49m\u001b[38;5;241;43m.\u001b[39;49m\u001b[43mresume\u001b[49m\u001b[43m(\u001b[49m\u001b[43m)\u001b[49m\n\u001b[0;32m    118\u001b[0m     I_handle \u001b[38;5;241m=\u001b[39m \u001b[38;5;28mself\u001b[39m\u001b[38;5;241m.\u001b[39mjob\u001b[38;5;241m.\u001b[39mresult_handles\u001b[38;5;241m.\u001b[39mget(\u001b[38;5;124m'\u001b[39m\u001b[38;5;124mI\u001b[39m\u001b[38;5;124m'\u001b[39m)\n\u001b[0;32m    119\u001b[0m     Q_handle \u001b[38;5;241m=\u001b[39m \u001b[38;5;28mself\u001b[39m\u001b[38;5;241m.\u001b[39mjob\u001b[38;5;241m.\u001b[39mresult_handles\u001b[38;5;241m.\u001b[39mget(\u001b[38;5;124m'\u001b[39m\u001b[38;5;124mQ\u001b[39m\u001b[38;5;124m'\u001b[39m)\n",
      "File \u001b[1;32m~\\Anaconda3\\envs\\qmachine\\lib\\site-packages\\qm\\QmJob.py:284\u001b[0m, in \u001b[0;36mQmJob.resume\u001b[1;34m(self)\u001b[0m\n\u001b[0;32m    282\u001b[0m request \u001b[38;5;241m=\u001b[39m ResumeRequest()\n\u001b[0;32m    283\u001b[0m request\u001b[38;5;241m.\u001b[39mjobId \u001b[38;5;241m=\u001b[39m \u001b[38;5;28mself\u001b[39m\u001b[38;5;241m.\u001b[39m_id\n\u001b[1;32m--> 284\u001b[0m \u001b[38;5;28;43mself\u001b[39;49m\u001b[38;5;241;43m.\u001b[39;49m\u001b[43m_frontend\u001b[49m\u001b[38;5;241;43m.\u001b[39;49m\u001b[43mResume\u001b[49m\u001b[43m(\u001b[49m\u001b[43mrequest\u001b[49m\u001b[43m)\u001b[49m\n",
      "File \u001b[1;32m~\\Anaconda3\\envs\\qmachine\\lib\\site-packages\\grpc\\_interceptor.py:216\u001b[0m, in \u001b[0;36m_UnaryUnaryMultiCallable.__call__\u001b[1;34m(self, request, timeout, metadata, credentials, wait_for_ready, compression)\u001b[0m\n\u001b[0;32m    209\u001b[0m \u001b[38;5;28;01mdef\u001b[39;00m \u001b[38;5;21m__call__\u001b[39m(\u001b[38;5;28mself\u001b[39m,\n\u001b[0;32m    210\u001b[0m              request,\n\u001b[0;32m    211\u001b[0m              timeout\u001b[38;5;241m=\u001b[39m\u001b[38;5;28;01mNone\u001b[39;00m,\n\u001b[1;32m   (...)\u001b[0m\n\u001b[0;32m    214\u001b[0m              wait_for_ready\u001b[38;5;241m=\u001b[39m\u001b[38;5;28;01mNone\u001b[39;00m,\n\u001b[0;32m    215\u001b[0m              compression\u001b[38;5;241m=\u001b[39m\u001b[38;5;28;01mNone\u001b[39;00m):\n\u001b[1;32m--> 216\u001b[0m     response, ignored_call \u001b[38;5;241m=\u001b[39m \u001b[38;5;28;43mself\u001b[39;49m\u001b[38;5;241;43m.\u001b[39;49m\u001b[43m_with_call\u001b[49m\u001b[43m(\u001b[49m\u001b[43mrequest\u001b[49m\u001b[43m,\u001b[49m\n\u001b[0;32m    217\u001b[0m \u001b[43m                                             \u001b[49m\u001b[43mtimeout\u001b[49m\u001b[38;5;241;43m=\u001b[39;49m\u001b[43mtimeout\u001b[49m\u001b[43m,\u001b[49m\n\u001b[0;32m    218\u001b[0m \u001b[43m                                             \u001b[49m\u001b[43mmetadata\u001b[49m\u001b[38;5;241;43m=\u001b[39;49m\u001b[43mmetadata\u001b[49m\u001b[43m,\u001b[49m\n\u001b[0;32m    219\u001b[0m \u001b[43m                                             \u001b[49m\u001b[43mcredentials\u001b[49m\u001b[38;5;241;43m=\u001b[39;49m\u001b[43mcredentials\u001b[49m\u001b[43m,\u001b[49m\n\u001b[0;32m    220\u001b[0m \u001b[43m                                             \u001b[49m\u001b[43mwait_for_ready\u001b[49m\u001b[38;5;241;43m=\u001b[39;49m\u001b[43mwait_for_ready\u001b[49m\u001b[43m,\u001b[49m\n\u001b[0;32m    221\u001b[0m \u001b[43m                                             \u001b[49m\u001b[43mcompression\u001b[49m\u001b[38;5;241;43m=\u001b[39;49m\u001b[43mcompression\u001b[49m\u001b[43m)\u001b[49m\n\u001b[0;32m    222\u001b[0m     \u001b[38;5;28;01mreturn\u001b[39;00m response\n",
      "File \u001b[1;32m~\\Anaconda3\\envs\\qmachine\\lib\\site-packages\\grpc\\_interceptor.py:257\u001b[0m, in \u001b[0;36m_UnaryUnaryMultiCallable._with_call\u001b[1;34m(self, request, timeout, metadata, credentials, wait_for_ready, compression)\u001b[0m\n\u001b[0;32m    252\u001b[0m         \u001b[38;5;28;01mreturn\u001b[39;00m _FailureOutcome(exception, sys\u001b[38;5;241m.\u001b[39mexc_info()[\u001b[38;5;241m2\u001b[39m])\n\u001b[0;32m    254\u001b[0m call \u001b[38;5;241m=\u001b[39m \u001b[38;5;28mself\u001b[39m\u001b[38;5;241m.\u001b[39m_interceptor\u001b[38;5;241m.\u001b[39mintercept_unary_unary(continuation,\n\u001b[0;32m    255\u001b[0m                                                client_call_details,\n\u001b[0;32m    256\u001b[0m                                                request)\n\u001b[1;32m--> 257\u001b[0m \u001b[38;5;28;01mreturn\u001b[39;00m \u001b[43mcall\u001b[49m\u001b[38;5;241;43m.\u001b[39;49m\u001b[43mresult\u001b[49m\u001b[43m(\u001b[49m\u001b[43m)\u001b[49m, call\n",
      "File \u001b[1;32m~\\Anaconda3\\envs\\qmachine\\lib\\site-packages\\grpc\\_channel.py:343\u001b[0m, in \u001b[0;36m_InactiveRpcError.result\u001b[1;34m(self, timeout)\u001b[0m\n\u001b[0;32m    341\u001b[0m \u001b[38;5;28;01mdef\u001b[39;00m \u001b[38;5;21mresult\u001b[39m(\u001b[38;5;28mself\u001b[39m, timeout\u001b[38;5;241m=\u001b[39m\u001b[38;5;28;01mNone\u001b[39;00m):  \u001b[38;5;66;03m# pylint: disable=unused-argument\u001b[39;00m\n\u001b[0;32m    342\u001b[0m     \u001b[38;5;124;03m\"\"\"See grpc.Future.result.\"\"\"\u001b[39;00m\n\u001b[1;32m--> 343\u001b[0m     \u001b[38;5;28;01mraise\u001b[39;00m \u001b[38;5;28mself\u001b[39m\n",
      "File \u001b[1;32m~\\Anaconda3\\envs\\qmachine\\lib\\site-packages\\grpc\\_interceptor.py:241\u001b[0m, in \u001b[0;36m_UnaryUnaryMultiCallable._with_call.<locals>.continuation\u001b[1;34m(new_details, request)\u001b[0m\n\u001b[0;32m    236\u001b[0m (new_method, new_timeout, new_metadata, new_credentials,\n\u001b[0;32m    237\u001b[0m  new_wait_for_ready,\n\u001b[0;32m    238\u001b[0m  new_compression) \u001b[38;5;241m=\u001b[39m (_unwrap_client_call_details(\n\u001b[0;32m    239\u001b[0m      new_details, client_call_details))\n\u001b[0;32m    240\u001b[0m \u001b[38;5;28;01mtry\u001b[39;00m:\n\u001b[1;32m--> 241\u001b[0m     response, call \u001b[38;5;241m=\u001b[39m \u001b[38;5;28;43mself\u001b[39;49m\u001b[38;5;241;43m.\u001b[39;49m\u001b[43m_thunk\u001b[49m\u001b[43m(\u001b[49m\u001b[43mnew_method\u001b[49m\u001b[43m)\u001b[49m\u001b[38;5;241;43m.\u001b[39;49m\u001b[43mwith_call\u001b[49m\u001b[43m(\u001b[49m\n\u001b[0;32m    242\u001b[0m \u001b[43m        \u001b[49m\u001b[43mrequest\u001b[49m\u001b[43m,\u001b[49m\n\u001b[0;32m    243\u001b[0m \u001b[43m        \u001b[49m\u001b[43mtimeout\u001b[49m\u001b[38;5;241;43m=\u001b[39;49m\u001b[43mnew_timeout\u001b[49m\u001b[43m,\u001b[49m\n\u001b[0;32m    244\u001b[0m \u001b[43m        \u001b[49m\u001b[43mmetadata\u001b[49m\u001b[38;5;241;43m=\u001b[39;49m\u001b[43mnew_metadata\u001b[49m\u001b[43m,\u001b[49m\n\u001b[0;32m    245\u001b[0m \u001b[43m        \u001b[49m\u001b[43mcredentials\u001b[49m\u001b[38;5;241;43m=\u001b[39;49m\u001b[43mnew_credentials\u001b[49m\u001b[43m,\u001b[49m\n\u001b[0;32m    246\u001b[0m \u001b[43m        \u001b[49m\u001b[43mwait_for_ready\u001b[49m\u001b[38;5;241;43m=\u001b[39;49m\u001b[43mnew_wait_for_ready\u001b[49m\u001b[43m,\u001b[49m\n\u001b[0;32m    247\u001b[0m \u001b[43m        \u001b[49m\u001b[43mcompression\u001b[49m\u001b[38;5;241;43m=\u001b[39;49m\u001b[43mnew_compression\u001b[49m\u001b[43m)\u001b[49m\n\u001b[0;32m    248\u001b[0m     \u001b[38;5;28;01mreturn\u001b[39;00m _UnaryOutcome(response, call)\n\u001b[0;32m    249\u001b[0m \u001b[38;5;28;01mexcept\u001b[39;00m grpc\u001b[38;5;241m.\u001b[39mRpcError \u001b[38;5;28;01mas\u001b[39;00m rpc_error:\n",
      "File \u001b[1;32m~\\Anaconda3\\envs\\qmachine\\lib\\site-packages\\grpc\\_interceptor.py:266\u001b[0m, in \u001b[0;36m_UnaryUnaryMultiCallable.with_call\u001b[1;34m(self, request, timeout, metadata, credentials, wait_for_ready, compression)\u001b[0m\n\u001b[0;32m    259\u001b[0m \u001b[38;5;28;01mdef\u001b[39;00m \u001b[38;5;21mwith_call\u001b[39m(\u001b[38;5;28mself\u001b[39m,\n\u001b[0;32m    260\u001b[0m               request,\n\u001b[0;32m    261\u001b[0m               timeout\u001b[38;5;241m=\u001b[39m\u001b[38;5;28;01mNone\u001b[39;00m,\n\u001b[1;32m   (...)\u001b[0m\n\u001b[0;32m    264\u001b[0m               wait_for_ready\u001b[38;5;241m=\u001b[39m\u001b[38;5;28;01mNone\u001b[39;00m,\n\u001b[0;32m    265\u001b[0m               compression\u001b[38;5;241m=\u001b[39m\u001b[38;5;28;01mNone\u001b[39;00m):\n\u001b[1;32m--> 266\u001b[0m     \u001b[38;5;28;01mreturn\u001b[39;00m \u001b[38;5;28;43mself\u001b[39;49m\u001b[38;5;241;43m.\u001b[39;49m\u001b[43m_with_call\u001b[49m\u001b[43m(\u001b[49m\u001b[43mrequest\u001b[49m\u001b[43m,\u001b[49m\n\u001b[0;32m    267\u001b[0m \u001b[43m                           \u001b[49m\u001b[43mtimeout\u001b[49m\u001b[38;5;241;43m=\u001b[39;49m\u001b[43mtimeout\u001b[49m\u001b[43m,\u001b[49m\n\u001b[0;32m    268\u001b[0m \u001b[43m                           \u001b[49m\u001b[43mmetadata\u001b[49m\u001b[38;5;241;43m=\u001b[39;49m\u001b[43mmetadata\u001b[49m\u001b[43m,\u001b[49m\n\u001b[0;32m    269\u001b[0m \u001b[43m                           \u001b[49m\u001b[43mcredentials\u001b[49m\u001b[38;5;241;43m=\u001b[39;49m\u001b[43mcredentials\u001b[49m\u001b[43m,\u001b[49m\n\u001b[0;32m    270\u001b[0m \u001b[43m                           \u001b[49m\u001b[43mwait_for_ready\u001b[49m\u001b[38;5;241;43m=\u001b[39;49m\u001b[43mwait_for_ready\u001b[49m\u001b[43m,\u001b[49m\n\u001b[0;32m    271\u001b[0m \u001b[43m                           \u001b[49m\u001b[43mcompression\u001b[49m\u001b[38;5;241;43m=\u001b[39;49m\u001b[43mcompression\u001b[49m\u001b[43m)\u001b[49m\n",
      "File \u001b[1;32m~\\Anaconda3\\envs\\qmachine\\lib\\site-packages\\grpc\\_interceptor.py:257\u001b[0m, in \u001b[0;36m_UnaryUnaryMultiCallable._with_call\u001b[1;34m(self, request, timeout, metadata, credentials, wait_for_ready, compression)\u001b[0m\n\u001b[0;32m    252\u001b[0m         \u001b[38;5;28;01mreturn\u001b[39;00m _FailureOutcome(exception, sys\u001b[38;5;241m.\u001b[39mexc_info()[\u001b[38;5;241m2\u001b[39m])\n\u001b[0;32m    254\u001b[0m call \u001b[38;5;241m=\u001b[39m \u001b[38;5;28mself\u001b[39m\u001b[38;5;241m.\u001b[39m_interceptor\u001b[38;5;241m.\u001b[39mintercept_unary_unary(continuation,\n\u001b[0;32m    255\u001b[0m                                                client_call_details,\n\u001b[0;32m    256\u001b[0m                                                request)\n\u001b[1;32m--> 257\u001b[0m \u001b[38;5;28;01mreturn\u001b[39;00m \u001b[43mcall\u001b[49m\u001b[38;5;241;43m.\u001b[39;49m\u001b[43mresult\u001b[49m\u001b[43m(\u001b[49m\u001b[43m)\u001b[49m, call\n",
      "File \u001b[1;32m~\\Anaconda3\\envs\\qmachine\\lib\\site-packages\\grpc\\_channel.py:343\u001b[0m, in \u001b[0;36m_InactiveRpcError.result\u001b[1;34m(self, timeout)\u001b[0m\n\u001b[0;32m    341\u001b[0m \u001b[38;5;28;01mdef\u001b[39;00m \u001b[38;5;21mresult\u001b[39m(\u001b[38;5;28mself\u001b[39m, timeout\u001b[38;5;241m=\u001b[39m\u001b[38;5;28;01mNone\u001b[39;00m):  \u001b[38;5;66;03m# pylint: disable=unused-argument\u001b[39;00m\n\u001b[0;32m    342\u001b[0m     \u001b[38;5;124;03m\"\"\"See grpc.Future.result.\"\"\"\u001b[39;00m\n\u001b[1;32m--> 343\u001b[0m     \u001b[38;5;28;01mraise\u001b[39;00m \u001b[38;5;28mself\u001b[39m\n",
      "File \u001b[1;32m~\\Anaconda3\\envs\\qmachine\\lib\\site-packages\\grpc\\_interceptor.py:241\u001b[0m, in \u001b[0;36m_UnaryUnaryMultiCallable._with_call.<locals>.continuation\u001b[1;34m(new_details, request)\u001b[0m\n\u001b[0;32m    236\u001b[0m (new_method, new_timeout, new_metadata, new_credentials,\n\u001b[0;32m    237\u001b[0m  new_wait_for_ready,\n\u001b[0;32m    238\u001b[0m  new_compression) \u001b[38;5;241m=\u001b[39m (_unwrap_client_call_details(\n\u001b[0;32m    239\u001b[0m      new_details, client_call_details))\n\u001b[0;32m    240\u001b[0m \u001b[38;5;28;01mtry\u001b[39;00m:\n\u001b[1;32m--> 241\u001b[0m     response, call \u001b[38;5;241m=\u001b[39m \u001b[38;5;28;43mself\u001b[39;49m\u001b[38;5;241;43m.\u001b[39;49m\u001b[43m_thunk\u001b[49m\u001b[43m(\u001b[49m\u001b[43mnew_method\u001b[49m\u001b[43m)\u001b[49m\u001b[38;5;241;43m.\u001b[39;49m\u001b[43mwith_call\u001b[49m\u001b[43m(\u001b[49m\n\u001b[0;32m    242\u001b[0m \u001b[43m        \u001b[49m\u001b[43mrequest\u001b[49m\u001b[43m,\u001b[49m\n\u001b[0;32m    243\u001b[0m \u001b[43m        \u001b[49m\u001b[43mtimeout\u001b[49m\u001b[38;5;241;43m=\u001b[39;49m\u001b[43mnew_timeout\u001b[49m\u001b[43m,\u001b[49m\n\u001b[0;32m    244\u001b[0m \u001b[43m        \u001b[49m\u001b[43mmetadata\u001b[49m\u001b[38;5;241;43m=\u001b[39;49m\u001b[43mnew_metadata\u001b[49m\u001b[43m,\u001b[49m\n\u001b[0;32m    245\u001b[0m \u001b[43m        \u001b[49m\u001b[43mcredentials\u001b[49m\u001b[38;5;241;43m=\u001b[39;49m\u001b[43mnew_credentials\u001b[49m\u001b[43m,\u001b[49m\n\u001b[0;32m    246\u001b[0m \u001b[43m        \u001b[49m\u001b[43mwait_for_ready\u001b[49m\u001b[38;5;241;43m=\u001b[39;49m\u001b[43mnew_wait_for_ready\u001b[49m\u001b[43m,\u001b[49m\n\u001b[0;32m    247\u001b[0m \u001b[43m        \u001b[49m\u001b[43mcompression\u001b[49m\u001b[38;5;241;43m=\u001b[39;49m\u001b[43mnew_compression\u001b[49m\u001b[43m)\u001b[49m\n\u001b[0;32m    248\u001b[0m     \u001b[38;5;28;01mreturn\u001b[39;00m _UnaryOutcome(response, call)\n\u001b[0;32m    249\u001b[0m \u001b[38;5;28;01mexcept\u001b[39;00m grpc\u001b[38;5;241m.\u001b[39mRpcError \u001b[38;5;28;01mas\u001b[39;00m rpc_error:\n",
      "File \u001b[1;32m~\\Anaconda3\\envs\\qmachine\\lib\\site-packages\\grpc\\_channel.py:957\u001b[0m, in \u001b[0;36m_UnaryUnaryMultiCallable.with_call\u001b[1;34m(self, request, timeout, metadata, credentials, wait_for_ready, compression)\u001b[0m\n\u001b[0;32m    948\u001b[0m \u001b[38;5;28;01mdef\u001b[39;00m \u001b[38;5;21mwith_call\u001b[39m(\u001b[38;5;28mself\u001b[39m,\n\u001b[0;32m    949\u001b[0m               request,\n\u001b[0;32m    950\u001b[0m               timeout\u001b[38;5;241m=\u001b[39m\u001b[38;5;28;01mNone\u001b[39;00m,\n\u001b[1;32m   (...)\u001b[0m\n\u001b[0;32m    953\u001b[0m               wait_for_ready\u001b[38;5;241m=\u001b[39m\u001b[38;5;28;01mNone\u001b[39;00m,\n\u001b[0;32m    954\u001b[0m               compression\u001b[38;5;241m=\u001b[39m\u001b[38;5;28;01mNone\u001b[39;00m):\n\u001b[0;32m    955\u001b[0m     state, call, \u001b[38;5;241m=\u001b[39m \u001b[38;5;28mself\u001b[39m\u001b[38;5;241m.\u001b[39m_blocking(request, timeout, metadata, credentials,\n\u001b[0;32m    956\u001b[0m                                   wait_for_ready, compression)\n\u001b[1;32m--> 957\u001b[0m     \u001b[38;5;28;01mreturn\u001b[39;00m \u001b[43m_end_unary_response_blocking\u001b[49m\u001b[43m(\u001b[49m\u001b[43mstate\u001b[49m\u001b[43m,\u001b[49m\u001b[43m \u001b[49m\u001b[43mcall\u001b[49m\u001b[43m,\u001b[49m\u001b[43m \u001b[49m\u001b[38;5;28;43;01mTrue\u001b[39;49;00m\u001b[43m,\u001b[49m\u001b[43m \u001b[49m\u001b[38;5;28;43;01mNone\u001b[39;49;00m\u001b[43m)\u001b[49m\n",
      "File \u001b[1;32m~\\Anaconda3\\envs\\qmachine\\lib\\site-packages\\grpc\\_channel.py:849\u001b[0m, in \u001b[0;36m_end_unary_response_blocking\u001b[1;34m(state, call, with_call, deadline)\u001b[0m\n\u001b[0;32m    847\u001b[0m         \u001b[38;5;28;01mreturn\u001b[39;00m state\u001b[38;5;241m.\u001b[39mresponse\n\u001b[0;32m    848\u001b[0m \u001b[38;5;28;01melse\u001b[39;00m:\n\u001b[1;32m--> 849\u001b[0m     \u001b[38;5;28;01mraise\u001b[39;00m _InactiveRpcError(state)\n",
      "\u001b[1;31m_InactiveRpcError\u001b[0m: <_InactiveRpcError of RPC that terminated with:\n\tstatus = StatusCode.UNKNOWN\n\tdetails = \"\"\n\tdebug_error_string = \"{\"created\":\"@1647508975.175000000\",\"description\":\"Error received from peer ipv4:192.168.15.128:80\",\"file\":\"src/core/lib/surface/call.cc\",\"file_line\":904,\"grpc_message\":\"\",\"grpc_status\":2}\"\n>"
     ]
    }
   ],
   "source": [
    "myqm.get_pulse()"
   ]
  },
  {
   "cell_type": "code",
   "execution_count": 6,
   "metadata": {},
   "outputs": [
    {
     "name": "stdout",
     "output_type": "stream",
     "text": [
      "Starting experimental run with id: 3. Using 'qcodes.utils.dataset.doNd.do0d'\n",
      "2022-03-16 16:35:04,036 - qm - INFO - Flags: \n",
      "2022-03-16 16:35:04,038 - qm - INFO - Sending program to QOP\n",
      "2022-03-16 16:35:04,681 - qm - INFO - Executing program\n"
     ]
    },
    {
     "data": {
      "text/plain": [
       "(results #3@C:\\Users\\T7-2\\AppData\\Local\\Temp\\test.db\n",
       " ---------------------------------------------------\n",
       " Bla_x_axis - array\n",
       " Bla_y_axis - array\n",
       " Bla_scan2d - array,\n",
       " [<AxesSubplot:title={'center':'Run #3, Experiment Test (test)'}, xlabel='X Axis (Hz)', ylabel='Y Axis (Hz)'>],\n",
       " [<matplotlib.colorbar.Colorbar at 0x26bfe771450>])"
      ]
     },
     "execution_count": 6,
     "metadata": {},
     "output_type": "execute_result"
    },
    {
     "data": {
      "image/png": "[encoded data removed]",
      "text/plain": [
       "<Figure size 432x288 with 2 Axes>"
      ]
     },
     "metadata": {
      "needs_background": "light"
     },
     "output_type": "display_data"
    }
   ],
   "source": [
    "do0d(myqm.scan2d, do_plot = True)"
   ]
  },
  {
   "cell_type": "code",
   "execution_count": 9,
   "metadata": {},
   "outputs": [
    {
     "name": "stdout",
     "output_type": "stream",
     "text": [
      "2022-03-16 15:01:19,209 - qm - INFO - Flags: \n",
      "2022-03-16 15:01:19,211 - qm - INFO - Sending program to QOP\n",
      "2022-03-16 15:01:19,337 - qm - INFO - Executing program\n"
     ]
    }
   ],
   "source": [
    "myqm.run_dumbpulse()"
   ]
  },
  {
   "cell_type": "code",
   "execution_count": 19,
   "metadata": {},
   "outputs": [
    {
     "data": {
      "text/plain": [
       "True"
      ]
     },
     "execution_count": 19,
     "metadata": {},
     "output_type": "execute_result"
    }
   ],
   "source": [
    "myqm.job.resume()\n",
    "myqm.job.is_paused()"
   ]
  },
  {
   "cell_type": "code",
   "execution_count": 6,
   "metadata": {},
   "outputs": [
    {
     "data": {
      "text/plain": [
       "False"
      ]
     },
     "execution_count": 6,
     "metadata": {},
     "output_type": "execute_result"
    }
   ],
   "source": [
    "myqm.job.is_paused()"
   ]
  },
  {
   "cell_type": "code",
   "execution_count": 5,
   "metadata": {},
   "outputs": [
    {
     "name": "stdout",
     "output_type": "stream",
     "text": [
      "2022-03-16 16:32:22,108 - qm - INFO - Flags: \n",
      "2022-03-16 16:32:22,110 - qm - INFO - Sending program to QOP\n",
      "2022-03-16 16:32:22,237 - qm - INFO - Executing program\n"
     ]
    },
    {
     "data": {
      "text/plain": [
       "array([0.03639531])"
      ]
     },
     "execution_count": 5,
     "metadata": {},
     "output_type": "execute_result"
    }
   ],
   "source": [
    "myqm.get_pulse()"
   ]
  },
  {
   "cell_type": "code",
   "execution_count": 7,
   "metadata": {},
   "outputs": [
    {
     "data": {
      "text/plain": [
       "array([0.        , 0.01010101, 0.02020202, 0.03030303, 0.04040404,\n",
       "       0.05050505, 0.06060606, 0.07070707, 0.08080808, 0.09090909,\n",
       "       0.1010101 , 0.11111111, 0.12121212, 0.13131313, 0.14141414,\n",
       "       0.15151515, 0.16161616, 0.17171717, 0.18181818, 0.19191919,\n",
       "       0.2020202 , 0.21212121, 0.22222222, 0.23232323, 0.24242424,\n",
       "       0.25252525, 0.26262626, 0.27272727, 0.28282828, 0.29292929,\n",
       "       0.3030303 , 0.31313131, 0.32323232, 0.33333333, 0.34343434,\n",
       "       0.35353535, 0.36363636, 0.37373737, 0.38383838, 0.39393939,\n",
       "       0.4040404 , 0.41414141, 0.42424242, 0.43434343, 0.44444444,\n",
       "       0.45454545, 0.46464646, 0.47474747, 0.48484848, 0.49494949,\n",
       "       0.50505051, 0.51515152, 0.52525253, 0.53535354, 0.54545455,\n",
       "       0.55555556, 0.56565657, 0.57575758, 0.58585859, 0.5959596 ,\n",
       "       0.60606061, 0.61616162, 0.62626263, 0.63636364, 0.64646465,\n",
       "       0.65656566, 0.66666667, 0.67676768, 0.68686869, 0.6969697 ,\n",
       "       0.70707071, 0.71717172, 0.72727273, 0.73737374, 0.74747475,\n",
       "       0.75757576, 0.76767677, 0.77777778, 0.78787879, 0.7979798 ,\n",
       "       0.80808081, 0.81818182, 0.82828283, 0.83838384, 0.84848485,\n",
       "       0.85858586, 0.86868687, 0.87878788, 0.88888889, 0.8989899 ,\n",
       "       0.90909091, 0.91919192, 0.92929293, 0.93939394, 0.94949495,\n",
       "       0.95959596, 0.96969697, 0.97979798, 0.98989899, 1.        ])"
      ]
     },
     "execution_count": 7,
     "metadata": {},
     "output_type": "execute_result"
    }
   ],
   "source": [
    "import numpy as np\n",
    "np.linspace(0, 1, 100)"
   ]
  },
  {
   "cell_type": "code",
   "execution_count": 21,
   "metadata": {},
   "outputs": [
    {
     "name": "stdout",
     "output_type": "stream",
     "text": [
      "2022-03-16 16:29:05,281 - qm - INFO - Flags: \n",
      "2022-03-16 16:29:05,281 - qm - INFO - Sending program to QOP\n",
      "2022-03-16 16:29:05,535 - qm - INFO - Executing program\n"
     ]
    },
    {
     "data": {
      "text/plain": [
       "array([[3.76868813e-06, 3.76862683e-06, 3.76871387e-06, ...,\n",
       "        3.76863229e-06, 2.59982544e-07, 4.41347077e-15],\n",
       "       [3.76860426e-06, 3.76865183e-06, 3.76864308e-06, ...,\n",
       "        3.76861954e-06, 2.59911242e-07, 2.76756807e-15],\n",
       "       [3.76867926e-06, 3.76851489e-06, 3.76852340e-06, ...,\n",
       "        3.76858951e-06, 2.59986759e-07, 3.27859537e-15],\n",
       "       ...,\n",
       "       [3.76852718e-06, 3.76877861e-06, 3.76857949e-06, ...,\n",
       "        3.76872376e-06, 2.59943248e-07, 9.27910932e-16],\n",
       "       [3.76858332e-06, 3.76845716e-06, 3.76854061e-06, ...,\n",
       "        3.76843977e-06, 2.59975502e-07, 2.30770215e-15],\n",
       "       [3.76862911e-06, 3.76861272e-06, 3.76876351e-06, ...,\n",
       "        3.76864631e-06, 2.59973322e-07, 7.37104986e-15]])"
      ]
     },
     "execution_count": 21,
     "metadata": {},
     "output_type": "execute_result"
    }
   ],
   "source": [
    "myqm.scan2d.get()"
   ]
  },
  {
   "cell_type": "code",
   "execution_count": 8,
   "metadata": {},
   "outputs": [
    {
     "data": {
      "text/plain": [
       "(100, 100)"
      ]
     },
     "execution_count": 8,
     "metadata": {},
     "output_type": "execute_result"
    }
   ],
   "source": [
    "import numpy as np\n",
    "np.zeros((100, 100)).shape"
   ]
  },
  {
   "cell_type": "code",
   "execution_count": 6,
   "metadata": {},
   "outputs": [],
   "source": [
    "STATION = qc.Station(config_file='F:/qcodes_local/FF1A_2022/220217_reflectometry/20220210_Config.yaml',use_monitor='True')\n"
   ]
  },
  {
   "cell_type": "code",
   "execution_count": 5,
   "metadata": {},
   "outputs": [
    {
     "name": "stderr",
     "output_type": "stream",
     "text": [
      "2022-03-08 16:26:27,575 ¦ py.warnings ¦ WARNING ¦ warnings ¦ _showwarnmsg ¦ 110 ¦ C:\\Users\\T7\\miniconda3\\envs\\qcodes\\lib\\site-packages\\qcodes\\station.py:573: QCoDeSDeprecationWarning: The use of a comma separated string for the limits keyword is deprecated. Use \"an array like \"[lower_lim, upper_lim]\"\" as an alternative.\n",
      "  alternative='an array like \"[lower_lim, upper_lim]\"',\n",
      "\n"
     ]
    }
   ],
   "source": [
    "qdac=STATION.load_instrument('qdac_A', revive_instance=False)"
   ]
  },
  {
   "cell_type": "code",
   "execution_count": 7,
   "metadata": {},
   "outputs": [
    {
     "name": "stdout",
     "output_type": "stream",
     "text": [
      "Connected to: Keysight Technologies 34465A (serial:MY57512797, firmware:A.03.00-02.40-03.00-00.52-04-01) in 0.12s\n"
     ]
    }
   ],
   "source": [
    "agi=STATION.load_instrument('keysight_A', revive_instance=True)\n",
    "\n",
    "\n",
    "def agi_get():\n",
    "    return agi.volt()*1e-7*-1\n",
    "\n",
    "curr = qc.Parameter(name='CURR_31',label='CURR_31',unit='A',get_cmd=agi_get)"
   ]
  },
  {
   "cell_type": "code",
   "execution_count": 8,
   "metadata": {},
   "outputs": [
    {
     "name": "stderr",
     "output_type": "stream",
     "text": [
      "2022-03-08 16:26:43,211 ¦ qcodes.instrument.base ¦ WARNING ¦ base ¦ snapshot_base ¦ 259 ¦ [step_att_1(RCDAT_6000_60)] Snapshot: Could not update parameter: attenuation\n",
      "2022-03-08 16:26:43,224 ¦ qcodes.instrument.base ¦ WARNING ¦ base ¦ snapshot_base ¦ 259 ¦ [step_att_1(RCDAT_6000_60)] Snapshot: Could not update parameter: hop_points\n"
     ]
    },
    {
     "name": "stdout",
     "output_type": "stream",
     "text": [
      "Connected to: Mini-Circuits  (serial:MN=RCDAT-6000-60, firmware:SN=11908290032) in 0.03s\n"
     ]
    }
   ],
   "source": [
    "#Loading attenuater\n",
    "st_att = STATION.load_instrument('step_att_1', revive_instance=True)\n",
    "#Setting attenuation to 38 which seems to be the optimum\n",
    "st_att.attenuation(38)"
   ]
  },
  {
   "cell_type": "markdown",
   "metadata": {},
   "source": [
    "Loading OPX"
   ]
  },
  {
   "cell_type": "code",
   "execution_count": 2,
   "metadata": {},
   "outputs": [
    {
     "name": "stdout",
     "output_type": "stream",
     "text": [
      "2022-03-15 17:23:57,038 - qm - INFO - Performing health check\n",
      "2022-03-15 17:23:57,045 - qm - INFO - Health check passed\n"
     ]
    }
   ],
   "source": [
    "from qmachine.config import *\n",
    "from qm.qua import *\n",
    "from qm.QuantumMachinesManager import QuantumMachinesManager\n",
    "from qm import SimulationConfig\n",
    "import time as time\n",
    "import matplotlib.pyplot as plt\n",
    "import matplotlib.animation as ani\n",
    "import numpy as np\n",
    "\n",
    "\n",
    "qmm = QuantumMachinesManager(host='192.168.15.128',port=80)\n",
    "qmm.close_all_quantum_machines()\n",
    "qm = qmm.open_qm(config)\n"
   ]
  },
  {
   "cell_type": "markdown",
   "metadata": {},
   "source": [
    "Pulse where we want to vary something else"
   ]
  },
  {
   "cell_type": "code",
   "execution_count": 11,
   "metadata": {},
   "outputs": [],
   "source": [
    "with program() as dumbpulse:\n",
    "    n = declare(int)\n",
    "    I = declare(fixed)\n",
    "    Q = declare(fixed)\n",
    "    I_stream = declare_stream()\n",
    "    Q_stream = declare_stream()\n",
    "\n",
    "    with for_(n,0,n<100,n+1):\n",
    "        measure('readout_pulse_0_2', 'Q1_readout', None, demod.full('cos', I), demod.full('sin', Q))\n",
    "\n",
    "        save(I, I_stream)\n",
    "        save(Q, Q_stream)\n",
    "                \n",
    "\n",
    "    with stream_processing():\n",
    "        I_stream.buffer(1).average().save('I')\n",
    "        Q_stream.buffer(1).average().save('Q')\n",
    "\n",
    "def run_pulse():\n",
    "    job = qm.execute(dumbpulse)\n",
    "    I_handle = job.result_handles.get('I')\n",
    "    Q_handle = job.result_handles.get('Q')\n",
    "    Q_handle.wait_for_all_values()\n",
    "    I_handle.wait_for_all_values()\n",
    "    results_I = I_handle.fetch_all()\n",
    "    results_Q = Q_handle.fetch_all()\n",
    "    job.halt()\n",
    "    return results_I**2 + results_Q**2\n",
    "   \n",
    " \n",
    "pulse_meas = qc.Parameter(name='pulse_meas',label='pulse_meas',unit='Vh',get_cmd=run_pulse)"
   ]
  },
  {
   "cell_type": "markdown",
   "metadata": {},
   "source": [
    "this is how we might do a measurement where we change something else a lot inbewtween OPX measurements"
   ]
  },
  {
   "cell_type": "code",
   "execution_count": 13,
   "metadata": {},
   "outputs": [
    {
     "name": "stdout",
     "output_type": "stream",
     "text": [
      "Starting experimental run with id: 698. Using 'qcodes.utils.dataset.doNd.do2d'\n",
      "2022-03-08 16:29:50,418 - qm - INFO - Flags: \n",
      "2022-03-08 16:29:50,419 - qm - INFO - Sending program to QOP\n",
      "2022-03-08 16:29:50,488 - qm - INFO - Executing program\n",
      "2022-03-08 16:29:50,800 - qm - INFO - Flags: \n",
      "2022-03-08 16:29:50,801 - qm - INFO - Sending program to QOP\n",
      "2022-03-08 16:29:50,867 - qm - INFO - Executing program\n",
      "2022-03-08 16:29:51,199 - qm - INFO - Flags: \n",
      "2022-03-08 16:29:51,200 - qm - INFO - Sending program to QOP\n",
      "2022-03-08 16:29:51,266 - qm - INFO - Executing program\n",
      "2022-03-08 16:29:51,619 - qm - INFO - Flags: \n",
      "2022-03-08 16:29:51,620 - qm - INFO - Sending program to QOP\n",
      "2022-03-08 16:29:51,699 - qm - INFO - Executing program\n",
      "2022-03-08 16:29:52,016 - qm - INFO - Flags: \n",
      "2022-03-08 16:29:52,017 - qm - INFO - Sending program to QOP\n",
      "2022-03-08 16:29:52,097 - qm - INFO - Executing program\n",
      "2022-03-08 16:29:52,422 - qm - INFO - Flags: \n",
      "2022-03-08 16:29:52,424 - qm - INFO - Sending program to QOP\n",
      "2022-03-08 16:29:52,493 - qm - INFO - Executing program\n",
      "2022-03-08 16:29:52,783 - qm - INFO - Flags: \n",
      "2022-03-08 16:29:52,784 - qm - INFO - Sending program to QOP\n",
      "2022-03-08 16:29:52,849 - qm - INFO - Executing program\n",
      "2022-03-08 16:29:53,198 - qm - INFO - Flags: \n",
      "2022-03-08 16:29:53,200 - qm - INFO - Sending program to QOP\n",
      "2022-03-08 16:29:53,263 - qm - INFO - Executing program\n",
      "2022-03-08 16:29:53,599 - qm - INFO - Flags: \n",
      "2022-03-08 16:29:53,601 - qm - INFO - Sending program to QOP\n",
      "2022-03-08 16:29:53,665 - qm - INFO - Executing program\n",
      "2022-03-08 16:29:53,951 - qm - INFO - Flags: \n",
      "2022-03-08 16:29:53,952 - qm - INFO - Sending program to QOP\n",
      "2022-03-08 16:29:54,020 - qm - INFO - Executing program\n",
      "2022-03-08 16:29:54,480 - qm - INFO - Flags: \n",
      "2022-03-08 16:29:54,481 - qm - INFO - Sending program to QOP\n",
      "2022-03-08 16:29:54,549 - qm - INFO - Executing program\n",
      "2022-03-08 16:29:54,878 - qm - INFO - Flags: \n",
      "2022-03-08 16:29:54,878 - qm - INFO - Sending program to QOP\n",
      "2022-03-08 16:29:54,949 - qm - INFO - Executing program\n",
      "2022-03-08 16:29:55,277 - qm - INFO - Flags: \n",
      "2022-03-08 16:29:55,278 - qm - INFO - Sending program to QOP\n",
      "2022-03-08 16:29:55,359 - qm - INFO - Executing program\n",
      "2022-03-08 16:29:55,758 - qm - INFO - Flags: \n",
      "2022-03-08 16:29:55,759 - qm - INFO - Sending program to QOP\n",
      "2022-03-08 16:29:55,833 - qm - INFO - Executing program\n",
      "2022-03-08 16:29:56,158 - qm - INFO - Flags: \n",
      "2022-03-08 16:29:56,159 - qm - INFO - Sending program to QOP\n",
      "2022-03-08 16:29:56,227 - qm - INFO - Executing program\n",
      "2022-03-08 16:29:56,556 - qm - INFO - Flags: \n",
      "2022-03-08 16:29:56,558 - qm - INFO - Sending program to QOP\n",
      "2022-03-08 16:29:56,853 - qm - INFO - Executing program\n",
      "2022-03-08 16:29:56,971 - qm - INFO - Flags: \n",
      "2022-03-08 16:29:56,972 - qm - INFO - Sending program to QOP\n",
      "2022-03-08 16:29:57,041 - qm - INFO - Executing program\n",
      "2022-03-08 16:29:57,375 - qm - INFO - Flags: \n",
      "2022-03-08 16:29:57,375 - qm - INFO - Sending program to QOP\n",
      "2022-03-08 16:29:57,439 - qm - INFO - Executing program\n",
      "2022-03-08 16:29:57,739 - qm - INFO - Flags: \n",
      "2022-03-08 16:29:57,740 - qm - INFO - Sending program to QOP\n",
      "2022-03-08 16:29:57,813 - qm - INFO - Executing program\n",
      "2022-03-08 16:29:58,155 - qm - INFO - Flags: \n",
      "2022-03-08 16:29:58,157 - qm - INFO - Sending program to QOP\n",
      "2022-03-08 16:29:58,232 - qm - INFO - Executing program\n",
      "2022-03-08 16:29:58,718 - qm - INFO - Flags: \n",
      "2022-03-08 16:29:58,719 - qm - INFO - Sending program to QOP\n",
      "2022-03-08 16:29:58,780 - qm - INFO - Executing program\n",
      "2022-03-08 16:29:59,118 - qm - INFO - Flags: \n",
      "2022-03-08 16:29:59,120 - qm - INFO - Sending program to QOP\n",
      "2022-03-08 16:29:59,183 - qm - INFO - Executing program\n",
      "2022-03-08 16:29:59,467 - qm - INFO - Flags: \n",
      "2022-03-08 16:29:59,468 - qm - INFO - Sending program to QOP\n",
      "2022-03-08 16:29:59,545 - qm - INFO - Executing program\n",
      "2022-03-08 16:29:59,884 - qm - INFO - Flags: \n",
      "2022-03-08 16:29:59,885 - qm - INFO - Sending program to QOP\n",
      "2022-03-08 16:29:59,958 - qm - INFO - Executing program\n",
      "2022-03-08 16:30:00,331 - qm - INFO - Flags: \n",
      "2022-03-08 16:30:00,332 - qm - INFO - Sending program to QOP\n",
      "2022-03-08 16:30:00,579 - qm - INFO - Executing program\n",
      "2022-03-08 16:30:00,700 - qm - INFO - Flags: \n",
      "2022-03-08 16:30:00,703 - qm - INFO - Sending program to QOP\n",
      "2022-03-08 16:30:00,775 - qm - INFO - Executing program\n",
      "2022-03-08 16:30:01,162 - qm - INFO - Flags: \n",
      "2022-03-08 16:30:01,164 - qm - INFO - Sending program to QOP\n",
      "2022-03-08 16:30:01,225 - qm - INFO - Executing program\n",
      "2022-03-08 16:30:01,565 - qm - INFO - Flags: \n",
      "2022-03-08 16:30:01,566 - qm - INFO - Sending program to QOP\n",
      "2022-03-08 16:30:01,639 - qm - INFO - Executing program\n",
      "2022-03-08 16:30:01,914 - qm - INFO - Flags: \n",
      "2022-03-08 16:30:01,915 - qm - INFO - Sending program to QOP\n",
      "2022-03-08 16:30:01,980 - qm - INFO - Executing program\n",
      "2022-03-08 16:30:02,329 - qm - INFO - Flags: \n",
      "2022-03-08 16:30:02,330 - qm - INFO - Sending program to QOP\n",
      "2022-03-08 16:30:02,402 - qm - INFO - Executing program\n",
      "2022-03-08 16:30:02,894 - qm - INFO - Flags: \n",
      "2022-03-08 16:30:02,894 - qm - INFO - Sending program to QOP\n",
      "2022-03-08 16:30:02,961 - qm - INFO - Executing program\n",
      "2022-03-08 16:30:03,291 - qm - INFO - Flags: \n",
      "2022-03-08 16:30:03,292 - qm - INFO - Sending program to QOP\n",
      "2022-03-08 16:30:03,356 - qm - INFO - Executing program\n",
      "2022-03-08 16:30:03,657 - qm - INFO - Flags: \n",
      "2022-03-08 16:30:03,658 - qm - INFO - Sending program to QOP\n",
      "2022-03-08 16:30:03,730 - qm - INFO - Executing program\n",
      "2022-03-08 16:30:04,072 - qm - INFO - Flags: \n",
      "2022-03-08 16:30:04,073 - qm - INFO - Sending program to QOP\n",
      "2022-03-08 16:30:04,139 - qm - INFO - Executing program\n",
      "2022-03-08 16:30:04,473 - qm - INFO - Flags: \n",
      "2022-03-08 16:30:04,474 - qm - INFO - Sending program to QOP\n",
      "2022-03-08 16:30:04,560 - qm - INFO - Executing program\n",
      "2022-03-08 16:30:04,888 - qm - INFO - Flags: \n",
      "2022-03-08 16:30:04,889 - qm - INFO - Sending program to QOP\n",
      "2022-03-08 16:30:04,958 - qm - INFO - Executing program\n",
      "2022-03-08 16:30:05,239 - qm - INFO - Flags: \n",
      "2022-03-08 16:30:05,240 - qm - INFO - Sending program to QOP\n",
      "2022-03-08 16:30:05,312 - qm - INFO - Executing program\n",
      "2022-03-08 16:30:05,642 - qm - INFO - Flags: \n",
      "2022-03-08 16:30:05,643 - qm - INFO - Sending program to QOP\n",
      "2022-03-08 16:30:05,723 - qm - INFO - Executing program\n",
      "2022-03-08 16:30:06,055 - qm - INFO - Flags: \n",
      "2022-03-08 16:30:06,056 - qm - INFO - Sending program to QOP\n",
      "2022-03-08 16:30:06,313 - qm - INFO - Executing program\n",
      "2022-03-08 16:30:06,519 - qm - INFO - Flags: \n",
      "2022-03-08 16:30:06,520 - qm - INFO - Sending program to QOP\n",
      "2022-03-08 16:30:06,592 - qm - INFO - Executing program\n",
      "2022-03-08 16:30:07,079 - qm - INFO - Flags: \n",
      "2022-03-08 16:30:07,080 - qm - INFO - Sending program to QOP\n",
      "2022-03-08 16:30:07,143 - qm - INFO - Executing program\n",
      "2022-03-08 16:30:07,480 - qm - INFO - Flags: \n",
      "2022-03-08 16:30:07,481 - qm - INFO - Sending program to QOP\n",
      "2022-03-08 16:30:07,546 - qm - INFO - Executing program\n",
      "2022-03-08 16:30:07,895 - qm - INFO - Flags: \n",
      "2022-03-08 16:30:07,898 - qm - INFO - Sending program to QOP\n",
      "2022-03-08 16:30:07,967 - qm - INFO - Executing program\n",
      "2022-03-08 16:30:08,310 - qm - INFO - Flags: \n",
      "2022-03-08 16:30:08,311 - qm - INFO - Sending program to QOP\n",
      "2022-03-08 16:30:08,384 - qm - INFO - Executing program\n",
      "2022-03-08 16:30:08,757 - qm - INFO - Flags: \n",
      "2022-03-08 16:30:08,758 - qm - INFO - Sending program to QOP\n",
      "2022-03-08 16:30:08,832 - qm - INFO - Executing program\n",
      "2022-03-08 16:30:09,157 - qm - INFO - Flags: \n",
      "2022-03-08 16:30:09,158 - qm - INFO - Sending program to QOP\n",
      "2022-03-08 16:30:09,414 - qm - INFO - Executing program\n",
      "2022-03-08 16:30:09,542 - qm - INFO - Flags: \n",
      "2022-03-08 16:30:09,543 - qm - INFO - Sending program to QOP\n",
      "2022-03-08 16:30:09,613 - qm - INFO - Executing program\n",
      "2022-03-08 16:30:09,989 - qm - INFO - Flags: \n",
      "2022-03-08 16:30:09,990 - qm - INFO - Sending program to QOP\n",
      "2022-03-08 16:30:10,063 - qm - INFO - Executing program\n",
      "2022-03-08 16:30:10,389 - qm - INFO - Flags: \n",
      "2022-03-08 16:30:10,390 - qm - INFO - Sending program to QOP\n",
      "2022-03-08 16:30:10,456 - qm - INFO - Executing program\n",
      "2022-03-08 16:30:10,758 - qm - INFO - Flags: \n",
      "2022-03-08 16:30:10,760 - qm - INFO - Sending program to QOP\n",
      "2022-03-08 16:30:10,826 - qm - INFO - Executing program\n",
      "2022-03-08 16:30:11,318 - qm - INFO - Flags: \n",
      "2022-03-08 16:30:11,319 - qm - INFO - Sending program to QOP\n",
      "2022-03-08 16:30:11,396 - qm - INFO - Executing program\n",
      "2022-03-08 16:30:11,798 - qm - INFO - Flags: \n",
      "2022-03-08 16:30:11,800 - qm - INFO - Sending program to QOP\n",
      "2022-03-08 16:30:11,864 - qm - INFO - Executing program\n",
      "2022-03-08 16:30:12,180 - qm - INFO - Flags: \n",
      "2022-03-08 16:30:12,181 - qm - INFO - Sending program to QOP\n",
      "2022-03-08 16:30:12,273 - qm - INFO - Executing program\n",
      "2022-03-08 16:30:12,583 - qm - INFO - Flags: \n",
      "2022-03-08 16:30:12,584 - qm - INFO - Sending program to QOP\n",
      "2022-03-08 16:30:12,663 - qm - INFO - Executing program\n",
      "2022-03-08 16:30:12,996 - qm - INFO - Flags: \n",
      "2022-03-08 16:30:12,997 - qm - INFO - Sending program to QOP\n",
      "2022-03-08 16:30:13,073 - qm - INFO - Executing program\n",
      "2022-03-08 16:30:13,364 - qm - INFO - Flags: \n",
      "2022-03-08 16:30:13,365 - qm - INFO - Sending program to QOP\n",
      "2022-03-08 16:30:13,440 - qm - INFO - Executing program\n",
      "2022-03-08 16:30:13,764 - qm - INFO - Flags: \n",
      "2022-03-08 16:30:13,767 - qm - INFO - Sending program to QOP\n",
      "2022-03-08 16:30:13,836 - qm - INFO - Executing program\n",
      "2022-03-08 16:30:14,116 - qm - INFO - Flags: \n",
      "2022-03-08 16:30:14,117 - qm - INFO - Sending program to QOP\n",
      "2022-03-08 16:30:14,191 - qm - INFO - Executing program\n",
      "2022-03-08 16:30:14,531 - qm - INFO - Flags: \n",
      "2022-03-08 16:30:14,532 - qm - INFO - Sending program to QOP\n",
      "2022-03-08 16:30:14,593 - qm - INFO - Executing program\n",
      "2022-03-08 16:30:14,934 - qm - INFO - Flags: \n",
      "2022-03-08 16:30:14,935 - qm - INFO - Sending program to QOP\n",
      "2022-03-08 16:30:15,005 - qm - INFO - Executing program\n",
      "2022-03-08 16:30:15,443 - qm - INFO - Flags: \n",
      "2022-03-08 16:30:15,443 - qm - INFO - Sending program to QOP\n",
      "2022-03-08 16:30:15,504 - qm - INFO - Executing program\n",
      "2022-03-08 16:30:15,858 - qm - INFO - Flags: \n",
      "2022-03-08 16:30:15,860 - qm - INFO - Sending program to QOP\n",
      "2022-03-08 16:30:16,114 - qm - INFO - Executing program\n",
      "2022-03-08 16:30:16,257 - qm - INFO - Flags: \n",
      "2022-03-08 16:30:16,259 - qm - INFO - Sending program to QOP\n",
      "2022-03-08 16:30:16,509 - qm - INFO - Executing program\n",
      "2022-03-08 16:30:16,660 - qm - INFO - Flags: \n",
      "2022-03-08 16:30:16,662 - qm - INFO - Sending program to QOP\n",
      "2022-03-08 16:30:16,730 - qm - INFO - Executing program\n",
      "2022-03-08 16:30:17,137 - qm - INFO - Flags: \n",
      "2022-03-08 16:30:17,138 - qm - INFO - Sending program to QOP\n",
      "2022-03-08 16:30:17,203 - qm - INFO - Executing program\n",
      "2022-03-08 16:30:17,536 - qm - INFO - Flags: \n",
      "2022-03-08 16:30:17,537 - qm - INFO - Sending program to QOP\n",
      "2022-03-08 16:30:17,605 - qm - INFO - Executing program\n",
      "2022-03-08 16:30:17,889 - qm - INFO - Flags: \n",
      "2022-03-08 16:30:17,890 - qm - INFO - Sending program to QOP\n",
      "2022-03-08 16:30:17,955 - qm - INFO - Executing program\n",
      "2022-03-08 16:30:18,290 - qm - INFO - Flags: \n",
      "2022-03-08 16:30:18,290 - qm - INFO - Sending program to QOP\n",
      "2022-03-08 16:30:18,351 - qm - INFO - Executing program\n",
      "2022-03-08 16:30:18,672 - qm - INFO - Flags: \n",
      "2022-03-08 16:30:18,673 - qm - INFO - Sending program to QOP\n",
      "2022-03-08 16:30:18,742 - qm - INFO - Executing program\n",
      "2022-03-08 16:30:19,071 - qm - INFO - Flags: \n",
      "2022-03-08 16:30:19,072 - qm - INFO - Sending program to QOP\n",
      "2022-03-08 16:30:19,140 - qm - INFO - Executing program\n",
      "2022-03-08 16:30:19,586 - qm - INFO - Flags: \n",
      "2022-03-08 16:30:19,587 - qm - INFO - Sending program to QOP\n",
      "2022-03-08 16:30:19,664 - qm - INFO - Executing program\n",
      "2022-03-08 16:30:19,984 - qm - INFO - Flags: \n",
      "2022-03-08 16:30:19,985 - qm - INFO - Sending program to QOP\n",
      "2022-03-08 16:30:20,071 - qm - INFO - Executing program\n",
      "2022-03-08 16:30:20,399 - qm - INFO - Flags: \n",
      "2022-03-08 16:30:20,400 - qm - INFO - Sending program to QOP\n",
      "2022-03-08 16:30:20,462 - qm - INFO - Executing program\n",
      "2022-03-08 16:30:20,799 - qm - INFO - Flags: \n",
      "2022-03-08 16:30:20,800 - qm - INFO - Sending program to QOP\n",
      "2022-03-08 16:30:20,877 - qm - INFO - Executing program\n",
      "2022-03-08 16:30:21,214 - qm - INFO - Flags: \n",
      "2022-03-08 16:30:21,215 - qm - INFO - Sending program to QOP\n",
      "2022-03-08 16:30:21,283 - qm - INFO - Executing program\n",
      "2022-03-08 16:30:21,630 - qm - INFO - Flags: \n",
      "2022-03-08 16:30:21,631 - qm - INFO - Sending program to QOP\n",
      "2022-03-08 16:30:21,691 - qm - INFO - Executing program\n",
      "2022-03-08 16:30:22,030 - qm - INFO - Flags: \n",
      "2022-03-08 16:30:22,032 - qm - INFO - Sending program to QOP\n",
      "2022-03-08 16:30:22,110 - qm - INFO - Executing program\n",
      "2022-03-08 16:30:22,558 - qm - INFO - Flags: \n",
      "2022-03-08 16:30:22,559 - qm - INFO - Sending program to QOP\n",
      "2022-03-08 16:30:22,626 - qm - INFO - Executing program\n",
      "2022-03-08 16:30:22,942 - qm - INFO - Flags: \n",
      "2022-03-08 16:30:22,944 - qm - INFO - Sending program to QOP\n",
      "2022-03-08 16:30:23,016 - qm - INFO - Executing program\n",
      "2022-03-08 16:30:23,357 - qm - INFO - Flags: \n",
      "2022-03-08 16:30:23,358 - qm - INFO - Sending program to QOP\n",
      "2022-03-08 16:30:23,423 - qm - INFO - Executing program\n",
      "2022-03-08 16:30:23,872 - qm - INFO - Flags: \n",
      "2022-03-08 16:30:23,874 - qm - INFO - Sending program to QOP\n",
      "2022-03-08 16:30:23,953 - qm - INFO - Executing program\n",
      "2022-03-08 16:30:24,285 - qm - INFO - Flags: \n",
      "2022-03-08 16:30:24,287 - qm - INFO - Sending program to QOP\n",
      "2022-03-08 16:30:24,540 - qm - INFO - Executing program\n",
      "2022-03-08 16:30:24,684 - qm - INFO - Flags: \n",
      "2022-03-08 16:30:24,685 - qm - INFO - Sending program to QOP\n",
      "2022-03-08 16:30:24,749 - qm - INFO - Executing program\n",
      "2022-03-08 16:30:25,085 - qm - INFO - Flags: \n",
      "2022-03-08 16:30:25,086 - qm - INFO - Sending program to QOP\n",
      "2022-03-08 16:30:25,151 - qm - INFO - Executing program\n",
      "2022-03-08 16:30:25,451 - qm - INFO - Flags: \n",
      "2022-03-08 16:30:25,452 - qm - INFO - Sending program to QOP\n",
      "2022-03-08 16:30:25,757 - qm - INFO - Executing program\n",
      "2022-03-08 16:30:25,916 - qm - INFO - Flags: \n",
      "2022-03-08 16:30:25,917 - qm - INFO - Sending program to QOP\n",
      "2022-03-08 16:30:25,984 - qm - INFO - Executing program\n",
      "2022-03-08 16:30:26,315 - qm - INFO - Flags: \n",
      "2022-03-08 16:30:26,317 - qm - INFO - Sending program to QOP\n",
      "2022-03-08 16:30:26,384 - qm - INFO - Executing program\n",
      "2022-03-08 16:30:26,732 - qm - INFO - Flags: \n",
      "2022-03-08 16:30:26,733 - qm - INFO - Sending program to QOP\n",
      "2022-03-08 16:30:26,804 - qm - INFO - Executing program\n",
      "2022-03-08 16:30:27,131 - qm - INFO - Flags: \n",
      "2022-03-08 16:30:27,133 - qm - INFO - Sending program to QOP\n",
      "2022-03-08 16:30:27,198 - qm - INFO - Executing program\n",
      "2022-03-08 16:30:27,547 - qm - INFO - Flags: \n",
      "2022-03-08 16:30:27,548 - qm - INFO - Sending program to QOP\n",
      "2022-03-08 16:30:27,639 - qm - INFO - Executing program\n",
      "2022-03-08 16:30:28,283 - qm - INFO - Flags: \n",
      "2022-03-08 16:30:28,284 - qm - INFO - Sending program to QOP\n",
      "2022-03-08 16:30:28,351 - qm - INFO - Executing program\n",
      "2022-03-08 16:30:28,668 - qm - INFO - Flags: \n",
      "2022-03-08 16:30:28,669 - qm - INFO - Sending program to QOP\n",
      "2022-03-08 16:30:28,734 - qm - INFO - Executing program\n",
      "2022-03-08 16:30:29,068 - qm - INFO - Flags: \n",
      "2022-03-08 16:30:29,069 - qm - INFO - Sending program to QOP\n",
      "2022-03-08 16:30:29,130 - qm - INFO - Executing program\n",
      "2022-03-08 16:30:29,482 - qm - INFO - Flags: \n",
      "2022-03-08 16:30:29,483 - qm - INFO - Sending program to QOP\n",
      "2022-03-08 16:30:29,548 - qm - INFO - Executing program\n",
      "2022-03-08 16:30:29,897 - qm - INFO - Flags: \n",
      "2022-03-08 16:30:29,899 - qm - INFO - Sending program to QOP\n",
      "2022-03-08 16:30:30,151 - qm - INFO - Executing program\n",
      "2022-03-08 16:30:30,299 - qm - INFO - Flags: \n",
      "2022-03-08 16:30:30,300 - qm - INFO - Sending program to QOP\n",
      "2022-03-08 16:30:30,367 - qm - INFO - Executing program\n",
      "2022-03-08 16:30:30,713 - qm - INFO - Flags: \n",
      "2022-03-08 16:30:30,714 - qm - INFO - Sending program to QOP\n",
      "2022-03-08 16:30:30,782 - qm - INFO - Executing program\n",
      "2022-03-08 16:30:31,112 - qm - INFO - Flags: \n",
      "2022-03-08 16:30:31,114 - qm - INFO - Sending program to QOP\n",
      "2022-03-08 16:30:31,192 - qm - INFO - Executing program\n",
      "2022-03-08 16:30:31,529 - qm - INFO - Flags: \n",
      "2022-03-08 16:30:31,530 - qm - INFO - Sending program to QOP\n",
      "2022-03-08 16:30:31,593 - qm - INFO - Executing program\n",
      "2022-03-08 16:30:31,932 - qm - INFO - Flags: \n",
      "2022-03-08 16:30:31,933 - qm - INFO - Sending program to QOP\n",
      "2022-03-08 16:30:32,000 - qm - INFO - Executing program\n"
     ]
    },
    {
     "data": {
      "text/plain": [
       "(results #698@F:\\database\\FF1A_2022.db\n",
       " -------------------------------------\n",
       " qdac_A_BNC36 - numeric\n",
       " qdac_A_BNC29 - numeric\n",
       " pulse_meas - numeric,\n",
       " [<AxesSubplot:title={'center':'Run #698, Experiment T7 (FF1A)'}, xlabel='BNC36 (mV)', ylabel='BNC29 (mV)'>],\n",
       " [<matplotlib.colorbar.Colorbar at 0x183274b4848>])"
      ]
     },
     "execution_count": 13,
     "metadata": {},
     "output_type": "execute_result"
    },
    {
     "data": {
      "image/png": "[encoded data removed]",
      "text/plain": [
       "<Figure size 432x288 with 2 Axes>"
      ]
     },
     "metadata": {
      "needs_background": "light"
     },
     "output_type": "display_data"
    }
   ],
   "source": [
    "do2d(qdac.BNC36, -0.1, -0.2, 10, 0.01, qdac.BNC29, -0.1, -0.2, 10, 0.01, pulse_meas)"
   ]
  },
  {
   "cell_type": "markdown",
   "metadata": {},
   "source": [
    "The data should just show the thing in action, note that it takes about 40s to do a 10x10 plot. the pause function in OPX might be a way through this issue"
   ]
  },
  {
   "cell_type": "markdown",
   "metadata": {},
   "source": [
    "Saving data from the OPX"
   ]
  },
  {
   "cell_type": "code",
   "execution_count": 3,
   "metadata": {},
   "outputs": [],
   "source": [
    "# Defining the 2dscan RBCH\n",
    "\n",
    "\n",
    "#job.halt()\n",
    "\n",
    "ramp_time = 10e3//4  #//4 turns ns into clock cycles\n",
    "sweep_width = 50  #mV\n",
    "attenuation_L12 = 8.891\n",
    "rate = (sweep_width*attenuation_L12)*1e-3/(4*ramp_time)\n",
    "\n",
    "num_of_slices = 100\n",
    "slice_length = int(ramp_time//num_of_slices)\n",
    "\n",
    "da = 0.01\n",
    "\n",
    "\n",
    "with program() as twodscan:\n",
    "    #From here\n",
    "    a = declare(fixed)\n",
    "    n = declare(int)\n",
    "    I = declare(fixed, size=num_of_slices)\n",
    "    Q = declare(fixed, size=num_of_slices)\n",
    "    I_stream = declare_stream()\n",
    "    Q_stream = declare_stream()\n",
    "    i = declare(int)\n",
    "\n",
    "    with for_(n, 0, n<2e3, n+1):  #number of averages\n",
    "        with for_(a, 0.0, a < 1.0 - da*0.5, a + da):  #adding the '- da*0.5 ' makes it unequivocal that the last value is not included. this is important for looping over fixed/floating values. *0.5 is way faster than /2, as division adds a 400ns overhead.\n",
    "            # reset_phase('Q1_readout')  #legacy\n",
    "            play('CW'*amp(a), 'Q1_L', duration=ramp_time)\n",
    "            #wait(500, 'Q1_R')  #legacy\n",
    "            #wait(500, 'Q1_readout')  #legacy\n",
    "            play(ramp(rate), 'Q1_R', duration=ramp_time)\n",
    "            measure('readout_pulse_0_2', 'Q1_readout', None, demod.sliced('cos', I, slice_length, 'out1'), demod.sliced('sin', Q, slice_length, 'out1'))\n",
    "            with for_(i, 0, i<num_of_slices, i+1):\n",
    "                save(I[i], I_stream)\n",
    "                save(Q[i], Q_stream)\n",
    "            #wait(4000)  #legacy\n",
    "            \n",
    "\n",
    "    with stream_processing():\n",
    "        I_stream.buffer(100,100).average().save('I')\n",
    "        Q_stream.buffer(100,100).average().save('Q')\n",
    "    \n",
    "    #to here could be defined as a macro. they are indeed identical to python functions"
   ]
  },
  {
   "cell_type": "code",
   "execution_count": 5,
   "metadata": {},
   "outputs": [],
   "source": [
    "#Generating data/measuring\n",
    "\n",
    "def scan2d(now):\n",
    "    if now == True:\n",
    "        job = qm.execute(twodscan)\n",
    "        I_handle = job.result_handles.get('I')\n",
    "        Q_handle = job.result_handles.get('Q')\n",
    "        I_handle.wait_for_all_values()\n",
    "        Q_handle.wait_for_all_values()\n",
    "        results_I = I_handle.fetch_all()\n",
    "        results_Q = Q_handle.fetch_all()\n",
    "        return results_I, results_Q\n"
   ]
  },
  {
   "cell_type": "code",
   "execution_count": 6,
   "metadata": {},
   "outputs": [
    {
     "name": "stdout",
     "output_type": "stream",
     "text": [
      "2022-03-15 17:27:20,742 - qm - INFO - Flags: \n",
      "2022-03-15 17:27:20,744 - qm - INFO - Sending program to QOP\n",
      "2022-03-15 17:27:21,059 - qm - INFO - Executing program\n"
     ]
    }
   ],
   "source": [
    "\n",
    "\n",
    "#the results_I and results_Q are our data\n",
    "results_I, results_Q = scan2d(True)"
   ]
  },
  {
   "cell_type": "markdown",
   "metadata": {},
   "source": [
    "Note that this is a 100x100 measurement taken 2000 times in 12.1s. this is the speed we like."
   ]
  },
  {
   "cell_type": "code",
   "execution_count": 7,
   "metadata": {},
   "outputs": [
    {
     "data": {
      "text/plain": [
       "<matplotlib.colorbar.Colorbar at 0x240acac43a0>"
      ]
     },
     "execution_count": 7,
     "metadata": {},
     "output_type": "execute_result"
    },
    {
     "data": {
      "image/png": "[encoded data removed]",
      "text/plain": [
       "<Figure size 432x288 with 2 Axes>"
      ]
     },
     "metadata": {
      "needs_background": "light"
     },
     "output_type": "display_data"
    },
    {
     "data": {
      "image/png": "[encoded data removed]",
      "text/plain": [
       "<Figure size 432x288 with 2 Axes>"
      ]
     },
     "metadata": {
      "needs_background": "light"
     },
     "output_type": "display_data"
    },
    {
     "data": {
      "image/png": "[encoded data removed]",
      "text/plain": [
       "<Figure size 432x288 with 2 Axes>"
      ]
     },
     "metadata": {
      "needs_background": "light"
     },
     "output_type": "display_data"
    }
   ],
   "source": [
    "amplitude = results_I**2 + results_Q**2\n",
    "\n",
    "plt.figure()\n",
    "plt.imshow(amplitude[:,1:-1],origin='lower')\n",
    "plt.colorbar()\n",
    "\n",
    "\n",
    "plt.figure()\n",
    "plt.imshow(results_I[:,1:-1],origin='lower')\n",
    "plt.colorbar()\n",
    "\n",
    "\n",
    "plt.figure()\n",
    "plt.imshow(results_Q[:,1:-1],origin='lower')\n",
    "plt.colorbar()\n"
   ]
  },
  {
   "cell_type": "markdown",
   "metadata": {},
   "source": [
    "Above we plotted the data. We're measuring a too small area of the voltage space compared to what we want ((50mV)**2 instead of the full (1V)**2). Being able to tile these plots would be great. here the fast reloading of a job is not so crucial, since the measurement execution is the bottleneck here."
   ]
  }
 ],
 "metadata": {
  "interpreter": {
   "hash": "4eae3ed281160ac02d16648a444efc80b0ba0f44f38eff452e6d1c183e330a73"
  },
  "kernelspec": {
   "display_name": "Python 3.7.9 ('qcodes')",
   "language": "python",
   "name": "python3"
  },
  "language_info": {
   "codemirror_mode": {
    "name": "ipython",
    "version": 3
   },
   "file_extension": ".py",
   "mimetype": "text/x-python",
   "name": "python",
   "nbconvert_exporter": "python",
   "pygments_lexer": "ipython3",
   "version": "3.10.2"
  },
  "orig_nbformat": 4
 },
 "nbformat": 4,
 "nbformat_minor": 2
}
