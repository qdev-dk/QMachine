{
 "cells": [
  {
   "cell_type": "code",
   "execution_count": 1,
   "metadata": {},
   "outputs": [
    {
     "name": "stdout",
     "output_type": "stream",
     "text": [
      "2022-03-13 17:47:55,679 - qm - INFO - Performing health check\n",
      "2022-03-13 17:47:55,683 - qm - INFO - Health check passed\n"
     ]
    }
   ],
   "source": [
    "from config import *\n",
    "from qm.qua import *\n",
    "from qm.QuantumMachinesManager import QuantumMachinesManager\n",
    "from qm import SimulationConfig\n",
    "import time as time\n",
    "import matplotlib.pyplot as plt\n",
    "import numpy as np\n",
    "\n",
    "qmm = QuantumMachinesManager(host='192.168.15.128',port=80)\n",
    "qmm.close_all_quantum_machines()\n",
    "qm = qmm.open_qm(config) #remember which config"
   ]
  },
  {
   "cell_type": "markdown",
   "metadata": {},
   "source": [
    "Here I make a simple exchange pulse without changing parameters, the loop is for changing tau"
   ]
  },
  {
   "cell_type": "code",
   "execution_count": 2,
   "metadata": {},
   "outputs": [],
   "source": [
    "little_up=0.2\n",
    "duration_1=int(40e2)//4\n",
    "readout_length=1000 #this matches config, in ns i think\n",
    "tau_time=np.array([5e2])\n",
    "\n",
    "ramp_target=0.2\n",
    "ramp_time=int(40e2) #time in ns\n",
    "ramp_rate=ramp_target/ramp_time\n",
    "\n",
    "ramp_time_cycles=ramp_time//4\n",
    "# tau=500\n",
    "with program() as pulsing_seq:\n",
    "    # tau = declare(int)\n",
    "    I = declare(fixed)\n",
    "    Q = declare(fixed)\n",
    "    I_stream = declare_stream()\n",
    "    Q_stream = declare_stream()\n",
    "    tau = declare(int)\n",
    "    i = declare(int)\n",
    "\n",
    "    with for_(tau, 500, tau<500+0.5, tau+1):\n",
    "        wait(duration_1)\n",
    "\n",
    "        play(ramp(ramp_rate), 'Q1_L', duration=ramp_time_cycles) #first go down\n",
    "        play(ramp(-ramp_rate), 'Q1_R', duration=ramp_time_cycles)\n",
    " \n",
    "        wait(duration_1)\n",
    "        play('CW'*amp(-little_up), 'Q1_L', duration=tau) #then jump up\n",
    "        play('CW'*amp(little_up), 'Q1_R', duration=tau)\n",
    "   \n",
    "\n",
    "        play('CW'*amp(little_up), 'Q1_L', duration=duration_1) #jump back down\n",
    "        play('CW'*amp(-little_up), 'Q1_R', duration=duration_1)\n",
    "   \n",
    "        \n",
    "        #below ramp can be done by ramp_to_zero, but then we have to change the time in config, can perhaps be done above.\n",
    "        play(ramp(-ramp_rate), 'Q1_L', duration=ramp_time_cycles) \n",
    "        play(ramp(ramp_rate), 'Q1_R', duration=ramp_time_cycles)\n",
    "\n",
    "        align('Q1_readout','Q1_L','Q1_R')\n",
    "        measure('readout_pulse_0_2', 'Q1_readout', None, demod.full('cos', I), demod.full('sin', Q))\n",
    "\n",
    "        save(I, I_stream)\n",
    "        save(Q, Q_stream)\n",
    "\n",
    "    \n",
    "\n",
    "    with stream_processing():\n",
    "        I_stream.buffer(1).average().save('I')\n",
    "        Q_stream.buffer(1).average().save('Q')\n",
    "\n"
   ]
  },
  {
   "cell_type": "code",
   "execution_count": 3,
   "metadata": {},
   "outputs": [
    {
     "name": "stdout",
     "output_type": "stream",
     "text": [
      "2022-03-13 17:48:01,178 - qm - INFO - to simulate a program, use QuantumMachinesManager.simulate(..)\n",
      "2022-03-13 17:48:01,195 - qm - INFO - Flags: \n",
      "2022-03-13 17:48:01,196 - qm - INFO - Simulating program\n"
     ]
    }
   ],
   "source": [
    "total_pulse_time=3*duration_1+2*ramp_time_cycles+tau_time+readout_length\n",
    "job = qm.simulate(pulsing_seq, SimulationConfig(total_pulse_time))\n",
    "samples = job.get_simulated_samples()\n",
    "# samples.con1.plot()"
   ]
  },
  {
   "cell_type": "code",
   "execution_count": 4,
   "metadata": {},
   "outputs": [
    {
     "name": "stderr",
     "output_type": "stream",
     "text": [
      "C:\\Users\\T7\\miniconda3\\envs\\qcodes\\lib\\site-packages\\ipykernel_launcher.py:18: UserWarning: FixedFormatter should only be used together with FixedLocator\n"
     ]
    },
    {
     "data": {
      "image/png": "[encoded data removed]",
      "text/plain": [
       "<Figure size 432x288 with 2 Axes>"
      ]
     },
     "metadata": {
      "needs_background": "light"
     },
     "output_type": "display_data"
    }
   ],
   "source": [
    "import matplotlib.pyplot as plt\n",
    "meas_pulse=np.where(samples.con1.analog['1']!=0)\n",
    "begin_meas=meas_pulse[0][0]\n",
    "end_meas=meas_pulse[0][-1]\n",
    "\n",
    "fig,ax=plt.subplots()\n",
    "ax2=ax.twinx()\n",
    "ax2.plot([begin_meas,end_meas],[1,1],label='m_pulse',c='green',linewidth=5)\n",
    "ax.plot(samples.con1.analog['2'],label='Q1_R')\n",
    "ax.plot(samples.con1.analog['3'],label='Q1_L')\n",
    "fig.legend(loc='center left', bbox_to_anchor=(1, 0.5))\n",
    "ax.set_ylabel('Gates')\n",
    "ax2.set_ylim(0,1.05)\n",
    "ax2.yaxis.set_visible(False)\n",
    "ax.grid(axis='y')\n",
    "\n",
    "xticks=ax.get_xticks()\n",
    "ax.set_xticklabels(xticks/1e3)\n",
    "ax.set_xlabel(r'Time [$\\mu S$]')\n",
    "plt.tight_layout()"
   ]
  },
  {
   "cell_type": "markdown",
   "metadata": {},
   "source": [
    "Below i want to make the same pulse but with varying tau and height of the square"
   ]
  },
  {
   "cell_type": "code",
   "execution_count": 9,
   "metadata": {},
   "outputs": [],
   "source": [
    "# little_up=0.2\n",
    "duration_1=int(40e2)//4\n",
    "readout_length=1000 #this matches config, in ns i think\n",
    "tau_time=np.array([5e2])\n",
    "\n",
    "ramp_target=0.2\n",
    "ramp_time=int(40e2) #time in ns\n",
    "ramp_rate=ramp_target/ramp_time\n",
    "\n",
    "ramp_time_cycles=ramp_time//4\n",
    "# tau=500\n",
    "with program() as pulsing_seq_map:\n",
    "\n",
    "    I = declare(fixed)\n",
    "    Q = declare(fixed)\n",
    "    I_stream = declare_stream()\n",
    "    Q_stream = declare_stream()\n",
    "    tau = declare(int)\n",
    "    E = declare(fixed)\n",
    "    #averaging can be done at multiple steps, either take the entire map, and average over it, over a row or a single pixel\n",
    "    with for_(E, 0.05, E<0.455, E+0.01): #size 41\n",
    "        with for_(tau, 300, tau<700+0.5, tau+10): #size 41\n",
    "            \n",
    "            wait(duration_1)\n",
    "\n",
    "            play(ramp(ramp_rate), 'Q1_L', duration=ramp_time_cycles) #first ramp down\n",
    "            play(ramp(-ramp_rate), 'Q1_R', duration=ramp_time_cycles)\n",
    "    \n",
    "            wait(duration_1)\n",
    "            play('CW'*amp(-E), 'Q1_L', duration=tau) #then jump up\n",
    "            play('CW'*amp(E), 'Q1_R', duration=tau)\n",
    "    \n",
    "            #if pulses where sticky instead of elements this could be ommitted \n",
    "            play('CW'*amp(E), 'Q1_L', duration=duration_1) #jump back down\n",
    "            play('CW'*amp(-E), 'Q1_R', duration=duration_1)\n",
    "    \n",
    "            \n",
    "            #below ramp can be done by ramp_to_zero, but then we have to change the time in config, can perhaps be done above.\n",
    "            play(ramp(-ramp_rate), 'Q1_L', duration=ramp_time_cycles) \n",
    "            play(ramp(ramp_rate), 'Q1_R', duration=ramp_time_cycles)\n",
    "\n",
    "            align('Q1_readout','Q1_L','Q1_R')\n",
    "            measure('readout_pulse_0_2', 'Q1_readout', None, demod.full('cos', I), demod.full('sin', Q))\n",
    "\n",
    "            save(I, I_stream)\n",
    "            save(Q, Q_stream)\n",
    "\n",
    "    \n",
    "\n",
    "    with stream_processing():\n",
    "        I_stream.buffer(41,41).save('I')\n",
    "        Q_stream.buffer(41,41).save('Q')\n"
   ]
  },
  {
   "cell_type": "code",
   "execution_count": 10,
   "metadata": {},
   "outputs": [
    {
     "name": "stdout",
     "output_type": "stream",
     "text": [
      "2022-03-14 09:30:48,612 - qm - INFO - to simulate a program, use QuantumMachinesManager.simulate(..)\n",
      "2022-03-14 09:30:48,631 - qm - INFO - Flags: \n",
      "2022-03-14 09:30:48,632 - qm - INFO - Simulating program\n"
     ]
    }
   ],
   "source": [
    "total_pulse_time=3*duration_1+2*ramp_time_cycles+tau_time+readout_length\n",
    "job = qm.simulate(pulsing_seq_map, SimulationConfig(41*total_pulse_time))\n",
    "samples = job.get_simulated_samples()"
   ]
  },
  {
   "cell_type": "code",
   "execution_count": 25,
   "metadata": {},
   "outputs": [
    {
     "name": "stderr",
     "output_type": "stream",
     "text": [
      "C:\\Users\\T7\\miniconda3\\envs\\qcodes\\lib\\site-packages\\ipykernel_launcher.py:21: UserWarning: FixedFormatter should only be used together with FixedLocator\n"
     ]
    },
    {
     "data": {
      "image/png": "[encoded data removed]",
      "text/plain": [
       "<Figure size 432x288 with 2 Axes>"
      ]
     },
     "metadata": {
      "needs_background": "light"
     },
     "output_type": "display_data"
    }
   ],
   "source": [
    "import matplotlib.pyplot as plt\n",
    "meas_pulse=np.where(samples.con1.analog['1']!=0)\n",
    "begin_meas=meas_pulse[0][0]\n",
    "end_meas=meas_pulse[0][-1]\n",
    "\n",
    "fig,ax=plt.subplots()\n",
    "ax2=ax.twinx()\n",
    "# ax2.plot([begin_meas,end_meas],[1,1],label='m_pulse',c='green',linewidth=5)\n",
    "ax.plot(samples.con1.analog['2'],label='Q1_R')\n",
    "ax.plot(samples.con1.analog['3'],label='Q1_L')\n",
    "fig.legend(loc='center left', bbox_to_anchor=(1, 0.5))\n",
    "ax.set_ylabel('Gates')\n",
    "ax2.set_ylim(0,1.05)\n",
    "ax2.yaxis.set_visible(False)\n",
    "ax.grid(axis='y')\n",
    "\n",
    "\n",
    "ax.set_xlabel(r'Time [$\\mu S$]')\n",
    "ax.set_xlim(int(800e3),int(1200e3))\n",
    "xticks=ax.get_xticks()\n",
    "ax.set_xticklabels(xticks/1e3)\n",
    "plt.tight_layout()"
   ]
  },
  {
   "cell_type": "code",
   "execution_count": 18,
   "metadata": {},
   "outputs": [
    {
     "data": {
      "text/plain": [
       "400000"
      ]
     },
     "execution_count": 18,
     "metadata": {},
     "output_type": "execute_result"
    }
   ],
   "source": []
  },
  {
   "cell_type": "code",
   "execution_count": null,
   "metadata": {},
   "outputs": [],
   "source": []
  }
 ],
 "metadata": {
  "interpreter": {
   "hash": "4eae3ed281160ac02d16648a444efc80b0ba0f44f38eff452e6d1c183e330a73"
  },
  "kernelspec": {
   "display_name": "Python 3.7.9 ('qcodes')",
   "language": "python",
   "name": "python3"
  },
  "language_info": {
   "codemirror_mode": {
    "name": "ipython",
    "version": 3
   },
   "file_extension": ".py",
   "mimetype": "text/x-python",
   "name": "python",
   "nbconvert_exporter": "python",
   "pygments_lexer": "ipython3",
   "version": "3.7.9"
  },
  "orig_nbformat": 4
 },
 "nbformat": 4,
 "nbformat_minor": 2
}
